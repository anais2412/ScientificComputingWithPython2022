{
 "cells": [
  {
   "cell_type": "code",
   "execution_count": 18,
   "id": "6e8aafb3",
   "metadata": {},
   "outputs": [
    {
     "name": "stdout",
     "output_type": "stream",
     "text": [
      "1\n",
      "2\n",
      "Hello\n",
      "4\n",
      "World\n",
      "Hello\n",
      "7\n",
      "8\n",
      "Hello\n",
      "World\n",
      "11\n",
      "Hello\n",
      "13\n",
      "14\n",
      "Hello World\n",
      "16\n",
      "17\n",
      "Hello\n",
      "19\n",
      "World\n",
      "Hello\n",
      "22\n",
      "23\n",
      "Hello\n",
      "World\n",
      "26\n",
      "Hello\n",
      "28\n",
      "29\n",
      "Hello World\n",
      "31\n",
      "32\n",
      "Hello\n",
      "34\n",
      "World\n",
      "Hello\n",
      "37\n",
      "38\n",
      "Hello\n",
      "World\n",
      "41\n",
      "Hello\n",
      "43\n",
      "44\n",
      "Hello World\n",
      "46\n",
      "47\n",
      "Hello\n",
      "49\n",
      "World\n",
      "Hello\n",
      "52\n",
      "53\n",
      "Hello\n",
      "World\n",
      "56\n",
      "Hello\n",
      "58\n",
      "59\n",
      "Hello World\n",
      "61\n",
      "62\n",
      "Hello\n",
      "64\n",
      "World\n",
      "Hello\n",
      "67\n",
      "68\n",
      "Hello\n",
      "World\n",
      "71\n",
      "Hello\n",
      "73\n",
      "74\n",
      "Hello World\n",
      "76\n",
      "77\n",
      "Hello\n",
      "79\n",
      "World\n",
      "Hello\n",
      "82\n",
      "83\n",
      "Hello\n",
      "World\n",
      "86\n",
      "Hello\n",
      "88\n",
      "89\n",
      "Hello World\n",
      "91\n",
      "92\n",
      "Hello\n",
      "94\n",
      "World\n",
      "Hello\n",
      "97\n",
      "98\n",
      "Hello\n",
      "World\n",
      "(1, 2, 'Python', 4, 'Works', 'Python', 7, 8, 'Python', 'Works', 11, 'Python', 13, 14, 'Python Works', 16, 17, 'Python', 19, 'Works', 'Python', 22, 23, 'Python', 'Works', 26, 'Python', 28, 29, 'Python Works', 31, 32, 'Python', 34, 'Works', 'Python', 37, 38, 'Python', 'Works', 41, 'Python', 43, 44, 'Python Works', 46, 47, 'Python', 49, 'Works', 'Python', 52, 53, 'Python', 'Works', 56, 'Python', 58, 59, 'Python Works', 61, 62, 'Python', 64, 'Works', 'Python', 67, 68, 'Python', 'Works', 71, 'Python', 73, 74, 'Python Works', 76, 77, 'Python', 79, 'Works', 'Python', 82, 83, 'Python', 'Works', 86, 'Python', 88, 89, 'Python Works', 91, 92, 'Python', 94, 'Works', 'Python', 97, 98, 'Python', 'Works')\n"
     ]
    }
   ],
   "source": [
    "#Anaïs_fragne\n",
    "#1/a.\n",
    "#b.\n",
    "\n",
    "my_list=[i for i in range(100)]\n",
    "#print(my_list)\n",
    "for i in range(100):\n",
    "    if (i+1)%3==0 and (i+1)%5==0:\n",
    "        print ('Hello World')\n",
    "        my_list[i]='Python Works'\n",
    "    elif (i+1)%3==0:\n",
    "        print('Hello')\n",
    "        my_list[i]='Python'\n",
    "    elif (i+1)%5==0:\n",
    "        print('World')\n",
    "        my_list[i]='Works'\n",
    "    else:\n",
    "        print(i+1)\n",
    "        my_list[i]=i+1\n",
    "my_tuple=tuple(my_list)\n",
    "print(my_tuple)\n",
    "\n"
   ]
  },
  {
   "cell_type": "code",
   "execution_count": 29,
   "id": "4d5597e7",
   "metadata": {},
   "outputs": [
    {
     "name": "stdout",
     "output_type": "stream",
     "text": [
      "Enter the variable x:\n",
      "3\n",
      "Enter the variable y:\n",
      "5\n",
      "x= 5\n",
      "y= 3\n"
     ]
    }
   ],
   "source": [
    "#2/\n",
    "y=input(\"Enter the variable x:\\n\")\n",
    "x=input(\"Enter the variable y:\\n\")\n",
    "\n",
    "\n",
    "print('x=',x)\n",
    "print('y=',y)"
   ]
  },
  {
   "cell_type": "code",
   "execution_count": 28,
   "id": "47d6158b",
   "metadata": {},
   "outputs": [
    {
     "name": "stdout",
     "output_type": "stream",
     "text": [
      "2.8284271247461903\n"
     ]
    }
   ],
   "source": [
    "#3/\n",
    "import math\n",
    "def dist(u,v):\n",
    "    dist1=((v[0]-u[0])**2)+((v[1]-u[1])**2)\n",
    "    dist=math.sqrt(dist1)\n",
    "    print(dist)\n",
    "u=(3,4)\n",
    "v=(5,6)\n",
    "dist(u,v)"
   ]
  },
  {
   "cell_type": "code",
   "execution_count": 43,
   "id": "f6c8786a",
   "metadata": {},
   "outputs": [
    {
     "name": "stdout",
     "output_type": "stream",
     "text": [
      "occurs_:  {'w': 4, 'r': 19, 'i': 12, 't': 19, 'e': 20, ' ': 41, 'a': 7, 'p': 8, 'o': 15, 'g': 1, 'm': 8, 'h': 11, 'n': 10, 's': 7, 'u': 7, 'b': 5, 'f': 10, '1': 2, '0': 2, '.': 3, 'l': 12, 'd': 5, 'v': 2, 'c': 1}\n",
      "occurs_:  {'t': 2, 'h': 2, 'e': 3, ' ': 8, 'q': 1, 'u': 2, 'i': 1, 'c': 1, 'k': 1, 'b': 1, 'r': 2, 'o': 4, 'w': 1, 'n': 1, 'f': 1, 'x': 1, 'j': 1, 'm': 1, 'p': 1, 's': 1, 'v': 1, 'l': 1, 'a': 1, 'z': 1, 'y': 1, 'd': 1, 'g': 1}\n"
     ]
    }
   ],
   "source": [
    "#4/\n",
    "s1 = \"Write a program that prints the numbers from 1 to 100. \\\n",
    "But for multiples of three print Hello instead of the number and for the multiples of five print World. \\\n",
    "For numbers which are multiples of both three and five print HelloWorld.\"\n",
    "s2 = \"The quick brown fox jumps over the lazy dog\"\n",
    "\n",
    "\n",
    "def occurs(s):\n",
    "    count={}\n",
    "    s=s.lower()\n",
    "    for i in s:\n",
    "        if i in count:\n",
    "            count[i]+=1\n",
    "        else:\n",
    "            count[i]=1\n",
    "    print('occurs_: ',count)\n",
    "occurs(s1)\n",
    "occurs(s2)\n",
    "                "
   ]
  },
  {
   "cell_type": "code",
   "execution_count": 22,
   "id": "99edc66b",
   "metadata": {},
   "outputs": [
    {
     "name": "stdout",
     "output_type": "stream",
     "text": [
      "80\n",
      "<class 'dict'>\n",
      "number:  37 [58, 74, 96, 64, 10, 24, 19, 33, 86, 99, 18, 47, 88, 55, 54, 8, 79, 81, 57, 37, 1, 9, 95, 90, 98, 39, 16, 82, 92, 41, 30, 94, 5, 72, 87, 75, 53]\n",
      "54\n",
      "num_values:  54\n"
     ]
    }
   ],
   "source": [
    "#5/\n",
    "l = [36, 45, 58, 3, 74, 96, 64, 45, 31, 10, 24, 19, 33, 86, 99, 18, 63, 70, 85,\n",
    " 85, 63, 47, 56, 42, 70, 84, 88, 55, 20, 54, 8, 56, 51, 79, 81, 57, 37, 91,\n",
    " 1, 84, 84, 36, 66, 9, 89, 50, 42, 91, 50, 95, 90, 98, 39, 16, 82, 31, 92, 41,\n",
    " 45, 30, 66, 70, 34, 85, 94, 5, 3, 36, 72, 91, 84, 34, 87, 75, 53, 51, 20, 89, 51, 20]\n",
    "print(len(l))\n",
    "def occurs(s):\n",
    "    count={}\n",
    "    #s=s.lower()\n",
    "    for i in s:\n",
    "        if i in count:\n",
    "            count[i]+=1\n",
    "        else:\n",
    "            count[i]=1\n",
    "    return count\n",
    "print(type(occurs(l)))\n",
    "def count(l):\n",
    "    dict=occurs(l)\n",
    "    list=[]\n",
    "    for a in dict:\n",
    "        if dict[a]==1:\n",
    "            list.append(a)\n",
    "    return list\n",
    "\n",
    "print(\"number: \" ,len(count(l)), count(l))\n",
    "\n",
    "#----------------------\n",
    "\n",
    "def occurs(s):\n",
    "    count={}\n",
    "    #s=s.lower()\n",
    "    for i in s:\n",
    "        if i in count:\n",
    "            count[i]+=1\n",
    "        else:\n",
    "            count[i]=1\n",
    "    return count\n",
    "print(len(occurs(l)))\n",
    "\n",
    "#-------Python data structure----------------\n",
    "\n",
    "num_values = len(set(l))\n",
    "print('num_values: ',num_values)"
   ]
  },
  {
   "cell_type": "code",
   "execution_count": 30,
   "id": "fc7b476d",
   "metadata": {
    "scrolled": true
   },
   "outputs": [
    {
     "name": "stdout",
     "output_type": "stream",
     "text": [
      "5\n",
      "is not a number\n"
     ]
    }
   ],
   "source": [
    "#6\n",
    "def q6(a,b):\n",
    "    try:\n",
    "        c = a + b\n",
    "        print(c)\n",
    "    except:\n",
    "        print(\"this sum is not a number\")\n",
    "        \n",
    "q6(3,2)\n",
    "q6(4,'2')"
   ]
  },
  {
   "cell_type": "code",
   "execution_count": 29,
   "id": "58e3a8e6",
   "metadata": {},
   "outputs": [
    {
     "name": "stdout",
     "output_type": "stream",
     "text": [
      "sum is not possible\n"
     ]
    }
   ],
   "source": []
  },
  {
   "cell_type": "code",
   "execution_count": 23,
   "id": "f6f920d5",
   "metadata": {},
   "outputs": [
    {
     "name": "stdout",
     "output_type": "stream",
     "text": [
      "[0, 1, 8, 27, 64, 125, 216, 343, 512, 729, 1000]\n"
     ]
    }
   ],
   "source": [
    "#7\n",
    "l=[i**3 for i in range(11)]\n",
    "print(l)"
   ]
  },
  {
   "cell_type": "code",
   "execution_count": 1,
   "id": "a5819a0e",
   "metadata": {},
   "outputs": [
    {
     "name": "stdout",
     "output_type": "stream",
     "text": [
      "[(0, 0), (0, 1), (0, 2), (0, 3), (1, 0), (1, 1), (1, 2), (1, 3), (2, 0), (2, 1), (2, 2), (2, 3)]\n",
      "[(0, 0), (0, 1), (0, 2), (0, 3), (1, 0), (1, 1), (1, 2), (1, 3), (2, 0), (2, 1), (2, 2), (2, 3)]\n"
     ]
    }
   ],
   "source": [
    "#8\n",
    "a = []\n",
    "for i in range(3):\n",
    "    for j in range(4):\n",
    "        a.append((i, j))\n",
    "print(a)\n",
    "\n",
    "#---------with list comprehension\n",
    "\n",
    "l=[(i,j) for i in range(3) for j in range(4)]\n",
    "print(l)"
   ]
  },
  {
   "cell_type": "code",
   "execution_count": 28,
   "id": "d3c644d5",
   "metadata": {},
   "outputs": [
    {
     "name": "stdout",
     "output_type": "stream",
     "text": [
      "3 4 5\n",
      "6 8 10\n",
      "5 12 13\n",
      "9 12 15\n",
      "8 15 17\n",
      "12 16 20\n",
      "15 20 25\n",
      "7 24 25\n",
      "10 24 26\n",
      "20 21 29\n",
      "18 24 30\n",
      "16 30 34\n",
      "21 28 35\n",
      "12 35 37\n",
      "15 36 39\n",
      "24 32 40\n",
      "9 40 41\n",
      "27 36 45\n",
      "30 40 50\n",
      "14 48 50\n",
      "24 45 51\n",
      "20 48 52\n",
      "28 45 53\n",
      "33 44 55\n",
      "40 42 58\n",
      "36 48 60\n",
      "11 60 61\n",
      "39 52 65\n",
      "33 56 65\n",
      "25 60 65\n",
      "16 63 65\n",
      "32 60 68\n",
      "42 56 70\n",
      "48 55 73\n",
      "24 70 74\n",
      "45 60 75\n",
      "21 72 75\n",
      "30 72 78\n",
      "48 64 80\n",
      "18 80 82\n",
      "51 68 85\n",
      "40 75 85\n",
      "36 77 85\n",
      "13 84 85\n",
      "60 63 87\n",
      "39 80 89\n",
      "54 72 90\n",
      "35 84 91\n",
      "57 76 95\n",
      "65 72 97\n",
      "((3, 4, 5), (6, 8, 10), (5, 12, 13), (9, 12, 15), (8, 15, 17), (12, 16, 20), (15, 20, 25), (7, 24, 25), (10, 24, 26), (20, 21, 29), (18, 24, 30), (16, 30, 34), (21, 28, 35), (12, 35, 37), (15, 36, 39), (24, 32, 40), (9, 40, 41), (27, 36, 45), (30, 40, 50), (14, 48, 50), (24, 45, 51), (20, 48, 52), (28, 45, 53), (33, 44, 55), (40, 42, 58), (36, 48, 60), (11, 60, 61), (39, 52, 65), (33, 56, 65), (25, 60, 65), (16, 63, 65), (32, 60, 68), (42, 56, 70), (48, 55, 73), (24, 70, 74), (45, 60, 75), (21, 72, 75), (30, 72, 78), (48, 64, 80), (18, 80, 82), (51, 68, 85), (40, 75, 85), (36, 77, 85), (13, 84, 85), (60, 63, 87), (39, 80, 89), (54, 72, 90), (35, 84, 91), (57, 76, 95), (65, 72, 97))\n"
     ]
    }
   ],
   "source": [
    "#9\n",
    "\n",
    "#-----without nested list\n",
    "   \n",
    "def triplet(n): \n",
    "  for c in range(n):\n",
    "    for b in range(c):\n",
    "      for a in range(b):\n",
    "        if c*c == a*a + b*b:\n",
    "          print(a, b, c)\n",
    "n=100\n",
    "triplet(n)\n",
    "#----with nested list\n",
    "\n",
    "t=[(a,b,c) for c in range(100) for b in range(c) for a in range(b) if c*c == a*a + b*b]\n",
    "t=tuple(t)\n",
    "print(t)"
   ]
  },
  {
   "cell_type": "code",
   "execution_count": 15,
   "id": "e8945369",
   "metadata": {},
   "outputs": [
    {
     "name": "stdout",
     "output_type": "stream",
     "text": [
      "[0.66447229 0.44542221 0.58887846 0.34612468 0.57616272 0.78363667\n",
      " 0.15285598 0.55933965 0.75263133 0.11662497]\n",
      "normalized_vector=  [0.38564154 0.25851086 0.34176895 0.20088129 0.33438908 0.45480129\n",
      " 0.08871343 0.32462543 0.43680663 0.06768594]\n",
      "arr2=  (0.5645018896783845, 0.42076543771899544, 0.16725277564045793, 0.3679506019227601, 0.7528896376373634, 0.8052470031302954, 0.5629650102839938, 0.8517306280845195, 0.7797958336225991, 0.6595653081591978)\n",
      "norm=  1.989928445808978\n",
      "normalized2=  (0.2836794915250805, 0.21144752144489248, 0.08404964308777625, 0.18490644862015368, 0.37835010561461996, 0.40466128559860515, 0.28290716255132886, 0.4280207310360148, 0.39187129329446, 0.33145177131786796)\n"
     ]
    }
   ],
   "source": [
    "#10\n",
    "from numpy import linalg as la\n",
    "import numpy as np\n",
    "import math as m\n",
    "N=10\n",
    "arr = np.random.rand(N)\n",
    "print(arr)\n",
    "normalized_vector = arr / np.linalg.norm(arr)\n",
    "print('normalized_vector= ',normalized_vector)\n",
    "\n",
    "#-----without numpy\n",
    "import random\n",
    "arr2=tuple(random.random() for i in range(N))\n",
    "print('arr2= ',arr2)\n",
    "norm=m.sqrt(sum(i**2 for i in arr2))\n",
    "print('norm= ',norm)\n",
    "normalized2=tuple(e/norm for e in arr2)\n",
    "print('normalized2= ', normalized2)"
   ]
  },
  {
   "cell_type": "code",
   "execution_count": 3,
   "id": "56491b15",
   "metadata": {},
   "outputs": [
    {
     "name": "stdout",
     "output_type": "stream",
     "text": [
      "[0, 1, 1, 2, 3, 5, 8, 13, 21, 34, 55, 89, 144, 233, 377, 610, 987, 1597, 2584, 4181]\n"
     ]
    }
   ],
   "source": [
    "#11\n",
    "l=[]\n",
    "f=0\n",
    "fp=1\n",
    "for i in range(20):\n",
    "    if i<=1:\n",
    "        l.append(i)\n",
    "    else:\n",
    "        fpp=f+fp\n",
    "        f=fp\n",
    "        fp=fpp\n",
    "        l.append(fpp)\n",
    "print(l)"
   ]
  }
 ],
 "metadata": {
  "kernelspec": {
   "display_name": "Python 3 (ipykernel)",
   "language": "python",
   "name": "python3"
  },
  "language_info": {
   "codemirror_mode": {
    "name": "ipython",
    "version": 3
   },
   "file_extension": ".py",
   "mimetype": "text/x-python",
   "name": "python",
   "nbconvert_exporter": "python",
   "pygments_lexer": "ipython3",
   "version": "3.9.12"
  }
 },
 "nbformat": 4,
 "nbformat_minor": 5
}
