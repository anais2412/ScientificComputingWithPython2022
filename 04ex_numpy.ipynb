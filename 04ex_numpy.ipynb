{
 "cells": [
  {
   "cell_type": "markdown",
   "metadata": {},
   "source": [
    "1\\. **Reductions**\n",
    "\n",
    "Find the total mean, and the mean for each row and column of the following matrix:\n",
    "\n",
    "```python\n",
    "m = np.arange(12).reshape((3,4))\n",
    "```"
   ]
  },
  {
   "cell_type": "code",
   "execution_count": 1,
   "metadata": {},
   "outputs": [
    {
     "name": "stdout",
     "output_type": "stream",
     "text": [
      "total mean is:  5.5\n",
      "mean of the columns:  [4. 5. 6. 7.]\n",
      "mean of the lines:  [1.5 5.5 9.5]\n"
     ]
    }
   ],
   "source": [
    "## Anaïs FRAGNE\n",
    "\n",
    "import  numpy as np \n",
    "\n",
    "m = np.arange(12).reshape((3,4))\n",
    "print('total mean is: ',np.mean(m))\n",
    "print('mean of the columns: ',np.mean(m,axis=0))\n",
    "print('mean of the lines: ',np.mean(m,axis=1))"
   ]
  },
  {
   "cell_type": "markdown",
   "metadata": {},
   "source": [
    "2\\. **Outer product**\n",
    "\n",
    "Find the outer product of the following vectors:\n",
    "\n",
    "```python\n",
    "u = np.array([1, 3, 5, 7])\n",
    "v = np.array([2, 4, 6, 8])\n",
    "```\n",
    "\n",
    "Use different methods to do this:\n",
    "\n",
    "   1. Using the function `outer` in numpy\n",
    "   2. Using a nested `for` loop or a list comprehension\n",
    "   3. Using numpy broadcasting operations"
   ]
  },
  {
   "cell_type": "code",
   "execution_count": 2,
   "metadata": {},
   "outputs": [
    {
     "name": "stdout",
     "output_type": "stream",
     "text": [
      "[1 3 5 7]\n",
      "[2 4 6 8]\n",
      "Outer product:  [[ 2  4  6  8]\n",
      " [ 6 12 18 24]\n",
      " [10 20 30 40]\n",
      " [14 28 42 56]]\n"
     ]
    }
   ],
   "source": [
    "u = np.array([1, 3, 5, 7])\n",
    "v = np.array([2, 4, 6, 8])\n",
    "#1. Outer \n",
    "\n",
    "print(u)\n",
    "print(v)\n",
    "\n",
    "print('Outer product: ',np.outer(u,v))"
   ]
  },
  {
   "cell_type": "code",
   "execution_count": 3,
   "metadata": {},
   "outputs": [
    {
     "name": "stdout",
     "output_type": "stream",
     "text": [
      "Outer product with for loop:  [[2, 4, 6, 8], [6, 12, 18, 24], [10, 20, 30, 40], [14, 28, 42, 56]]\n"
     ]
    }
   ],
   "source": [
    "#2. For\n",
    "outer=[[u[i]*v[j] for j in range(len(v))] for i in range(len(u))]\n",
    "print('Outer product with for loop: ',outer)"
   ]
  },
  {
   "cell_type": "code",
   "execution_count": 4,
   "metadata": {},
   "outputs": [
    {
     "name": "stdout",
     "output_type": "stream",
     "text": [
      "Outer product with Numpy broadcasting:  [[ 2  4  6  8]\n",
      " [ 6 12 18 24]\n",
      " [10 20 30 40]\n",
      " [14 28 42 56]]\n"
     ]
    }
   ],
   "source": [
    "#3. Numpy Broadcast\n",
    "outer= u[:, np.newaxis]*v\n",
    "\n",
    "print('Outer product with Numpy broadcasting: ',outer)"
   ]
  },
  {
   "cell_type": "markdown",
   "metadata": {},
   "source": [
    "3\\. **Matrix masking**\n",
    "\n",
    "Create a 10 by 6 matrix of float random numbers, distributed between 0 and 3 according to a flat distribution.\n",
    "\n",
    "After creating the matrix, set all entries $< 0.3$ to zero using a mask."
   ]
  },
  {
   "cell_type": "code",
   "execution_count": 5,
   "metadata": {},
   "outputs": [
    {
     "name": "stdout",
     "output_type": "stream",
     "text": [
      "Matrix M:  [[2.29853033 2.08526665 0.48041489 2.69057769 0.04059806 2.77526439]\n",
      " [0.32592894 1.64566123 1.29662765 1.66133913 0.75659838 0.34487269]\n",
      " [0.02684597 0.88819468 0.39952103 1.98935794 0.75912024 2.14843945]\n",
      " [1.46141418 1.40494225 1.91652121 0.9578867  2.43551409 2.58782937]\n",
      " [1.04189699 1.54419926 2.85495252 0.74553051 0.40906024 2.35854368]\n",
      " [2.19550252 2.21676308 2.93052477 2.04715866 2.28221213 1.26589629]\n",
      " [2.84213826 0.33533511 2.38388889 2.03566565 0.16395163 0.50982773]\n",
      " [1.67957324 1.77438501 0.58086815 0.17440126 0.74175854 0.49440582]\n",
      " [2.85887478 2.99640601 2.54888023 0.09235549 1.22188003 0.5728794 ]\n",
      " [1.98166261 2.92426294 1.76360532 0.24118189 0.22959381 0.11807118]]\n",
      "Matrix after the mask:  [[2.29853033 2.08526665 0.48041489 2.69057769 0.         2.77526439]\n",
      " [0.32592894 1.64566123 1.29662765 1.66133913 0.75659838 0.34487269]\n",
      " [0.         0.88819468 0.39952103 1.98935794 0.75912024 2.14843945]\n",
      " [1.46141418 1.40494225 1.91652121 0.9578867  2.43551409 2.58782937]\n",
      " [1.04189699 1.54419926 2.85495252 0.74553051 0.40906024 2.35854368]\n",
      " [2.19550252 2.21676308 2.93052477 2.04715866 2.28221213 1.26589629]\n",
      " [2.84213826 0.33533511 2.38388889 2.03566565 0.         0.50982773]\n",
      " [1.67957324 1.77438501 0.58086815 0.         0.74175854 0.49440582]\n",
      " [2.85887478 2.99640601 2.54888023 0.         1.22188003 0.5728794 ]\n",
      " [1.98166261 2.92426294 1.76360532 0.         0.         0.        ]]\n"
     ]
    }
   ],
   "source": [
    "M=np.random.uniform(0, 3, size=(10,6))\n",
    "print('Matrix M: ',M)\n",
    "mask= (M<0.3)\n",
    "M[mask]=0\n",
    "print('Matrix after the mask: ',M)"
   ]
  },
  {
   "cell_type": "markdown",
   "metadata": {},
   "source": [
    "4\\. **Trigonometric functions**\n",
    "\n",
    "Use `np.linspace` to create an array of 100 numbers between $0$ and $2\\pi$ (inclusive).\n",
    "\n",
    "  * Extract every 10th element using the slice notation\n",
    "  * Reverse the array using the slice notation\n",
    "  * Extract elements where the absolute difference between the `sin` and `cos` functions evaluated for that element is $< 0.1$\n",
    "  * **Optional**: make a plot showing the sin and cos functions and indicate where they are close"
   ]
  },
  {
   "cell_type": "code",
   "execution_count": 6,
   "metadata": {},
   "outputs": [
    {
     "name": "stdout",
     "output_type": "stream",
     "text": [
      "arr:  [0.         0.06346652 0.12693304 0.19039955 0.25386607 0.31733259\n",
      " 0.38079911 0.44426563 0.50773215 0.57119866 0.63466518 0.6981317\n",
      " 0.76159822 0.82506474 0.88853126 0.95199777 1.01546429 1.07893081\n",
      " 1.14239733 1.20586385 1.26933037 1.33279688 1.3962634  1.45972992\n",
      " 1.52319644 1.58666296 1.65012947 1.71359599 1.77706251 1.84052903\n",
      " 1.90399555 1.96746207 2.03092858 2.0943951  2.15786162 2.22132814\n",
      " 2.28479466 2.34826118 2.41172769 2.47519421 2.53866073 2.60212725\n",
      " 2.66559377 2.72906028 2.7925268  2.85599332 2.91945984 2.98292636\n",
      " 3.04639288 3.10985939 3.17332591 3.23679243 3.30025895 3.36372547\n",
      " 3.42719199 3.4906585  3.55412502 3.61759154 3.68105806 3.74452458\n",
      " 3.8079911  3.87145761 3.93492413 3.99839065 4.06185717 4.12532369\n",
      " 4.1887902  4.25225672 4.31572324 4.37918976 4.44265628 4.5061228\n",
      " 4.56958931 4.63305583 4.69652235 4.75998887 4.82345539 4.88692191\n",
      " 4.95038842 5.01385494 5.07732146 5.14078798 5.2042545  5.26772102\n",
      " 5.33118753 5.39465405 5.45812057 5.52158709 5.58505361 5.64852012\n",
      " 5.71198664 5.77545316 5.83891968 5.9023862  5.96585272 6.02931923\n",
      " 6.09278575 6.15625227 6.21971879 6.28318531]\n",
      "Every 10th element of arr:  [0.         0.63466518 1.26933037 1.90399555 2.53866073 3.17332591\n",
      " 3.8079911  4.44265628 5.07732146 5.71198664]\n",
      "Reversed array:  [6.28318531 6.21971879 6.15625227 6.09278575 6.02931923 5.96585272\n",
      " 5.9023862  5.83891968 5.77545316 5.71198664 5.64852012 5.58505361\n",
      " 5.52158709 5.45812057 5.39465405 5.33118753 5.26772102 5.2042545\n",
      " 5.14078798 5.07732146 5.01385494 4.95038842 4.88692191 4.82345539\n",
      " 4.75998887 4.69652235 4.63305583 4.56958931 4.5061228  4.44265628\n",
      " 4.37918976 4.31572324 4.25225672 4.1887902  4.12532369 4.06185717\n",
      " 3.99839065 3.93492413 3.87145761 3.8079911  3.74452458 3.68105806\n",
      " 3.61759154 3.55412502 3.4906585  3.42719199 3.36372547 3.30025895\n",
      " 3.23679243 3.17332591 3.10985939 3.04639288 2.98292636 2.91945984\n",
      " 2.85599332 2.7925268  2.72906028 2.66559377 2.60212725 2.53866073\n",
      " 2.47519421 2.41172769 2.34826118 2.28479466 2.22132814 2.15786162\n",
      " 2.0943951  2.03092858 1.96746207 1.90399555 1.84052903 1.77706251\n",
      " 1.71359599 1.65012947 1.58666296 1.52319644 1.45972992 1.3962634\n",
      " 1.33279688 1.26933037 1.20586385 1.14239733 1.07893081 1.01546429\n",
      " 0.95199777 0.88853126 0.82506474 0.76159822 0.6981317  0.63466518\n",
      " 0.57119866 0.50773215 0.44426563 0.38079911 0.31733259 0.25386607\n",
      " 0.19039955 0.12693304 0.06346652 0.        ]\n",
      "filtered_array:  [0.76159822 0.82506474 3.87145761 3.93492413]\n"
     ]
    },
    {
     "data": {
      "image/png": "[encoded data removed]",
      "text/plain": [
       "<Figure size 432x288 with 1 Axes>"
      ]
     },
     "metadata": {
      "needs_background": "light"
     },
     "output_type": "display_data"
    }
   ],
   "source": [
    "arr=np.linspace(0,2*np.pi,100)\n",
    "print('arr: ',arr)\n",
    "arr2=arr[0:-1:10]\n",
    "print('Every 10th element of arr: ',arr2)\n",
    "arr_rev=arr[::-1]\n",
    "print('Reversed array: ',arr_rev)\n",
    "mask= ((abs(np.sin(arr)-np.cos(arr))<0.1))\n",
    "arr3=arr[mask]\n",
    "print('filtered_array: ',arr3)\n",
    "\n",
    "#Optional:\n",
    "\n",
    "import matplotlib.pyplot as plt\n",
    "y = np.sin(arr)\n",
    "z = np.cos(arr)\n",
    "\n",
    "plt.plot(arr,y,arr,z)\n",
    "plt.legend(['sin(x)', 'cos(x)']) \n",
    "\n",
    "\n",
    "plt.scatter(arr3[0],np.cos(arr3[0]),c='g',marker='+')\n",
    "plt.scatter(arr3[1],np.sin(arr3[1]),c='g',marker='+')\n",
    "plt.scatter(arr3[2],np.cos(arr3[2]),c='g',marker='+')\n",
    "plt.scatter(arr3[3],np.sin(arr3[3]),c='g',marker='+')\n",
    "plt.show()\n",
    "#In green, the crosses represent the points where the absolute difference between cos and sin is smaller than 0.1 according to the points of arr\n",
    "#That is to say the green crosses are where sin and cos are close"
   ]
  },
  {
   "cell_type": "markdown",
   "metadata": {},
   "source": [
    "5\\. **Matrices**\n",
    "\n",
    "Create a matrix that shows the 10 by 10 multiplication table.\n",
    "\n",
    " * Find the trace of the matrix\n",
    " * Extract the anti-diagonal matrix (this should be ```array([10, 18, 24, 28, 30, 30, 28, 24, 18, 10])```)\n",
    " * Extract the diagonal offset by 1 upwards (this should be ```array([ 2,  6, 12, 20, 30, 42, 56, 72, 90])```)"
   ]
  },
  {
   "cell_type": "code",
   "execution_count": 7,
   "metadata": {},
   "outputs": [
    {
     "name": "stdout",
     "output_type": "stream",
     "text": [
      "mult_tab:  [[1, 2, 3, 4, 5, 6, 7, 8, 9, 10], [2, 4, 6, 8, 10, 12, 14, 16, 18, 20], [3, 6, 9, 12, 15, 18, 21, 24, 27, 30], [4, 8, 12, 16, 20, 24, 28, 32, 36, 40], [5, 10, 15, 20, 25, 30, 35, 40, 45, 50], [6, 12, 18, 24, 30, 36, 42, 48, 54, 60], [7, 14, 21, 28, 35, 42, 49, 56, 63, 70], [8, 16, 24, 32, 40, 48, 56, 64, 72, 80], [9, 18, 27, 36, 45, 54, 63, 72, 81, 90], [10, 20, 30, 40, 50, 60, 70, 80, 90, 100]]\n",
      "The trace of the matrix is:  385\n",
      "The anti-diagonal matrix of my mult_tab is:  [10, 18, 24, 28, 30, 30, 28, 24, 18]\n",
      "diag_offset:  [2, 6, 12, 20, 30, 42, 56, 72, 90]\n"
     ]
    }
   ],
   "source": [
    "mult_tab=[[(i+1)*(j+1) for i in range(10)] for j in range(10)]\n",
    "print('mult_tab: ',mult_tab)\n",
    "trace_mat=[mult_tab[i][j] for i in range(10) for j in range(10) if i==j]\n",
    "trace=np.sum(trace_mat)\n",
    "print('The trace of the matrix is: ',trace)\n",
    "\n",
    "anti_diag=[mult_tab[i][j] for i in range(9,0,-1) for j in range(10) if j+1==10-i]\n",
    "print('The anti-diagonal matrix of my mult_tab is: ',anti_diag)\n",
    "\n",
    "diag_offset=[mult_tab[i][j] for i in range(10) for j in range(10) if j== i+1] \n",
    "print('diag_offset: ', diag_offset)"
   ]
  },
  {
   "cell_type": "markdown",
   "metadata": {},
   "source": [
    "6\\. **Broadcasting**\n",
    "\n",
    "Use broadcasting to create a grid of distances.\n",
    "\n",
    "Route 66 crosses the following cities in the US: Chicago, Springfield, Saint-Louis, Tulsa, Oklahoma City, Amarillo, Santa Fe, Albuquerque, Flagstaff, Los Angeles.\n",
    "\n",
    "The corresponding positions in miles are: 0, 198, 303, 736, 871, 1175, 1475, 1544, 1913, 2448\n",
    "\n",
    "  * Build a 2D grid of distances among each city along Route 66\n",
    "  * Convert the distances in km"
   ]
  },
  {
   "cell_type": "code",
   "execution_count": 8,
   "metadata": {},
   "outputs": [
    {
     "name": "stdout",
     "output_type": "stream",
     "text": [
      "distance_grid: \n",
      " [[0.         1.         2.         3.         4.        ]\n",
      " [1.         1.41421356 2.23606798 3.16227766 4.12310563]\n",
      " [2.         2.23606798 2.82842712 3.60555128 4.47213595]\n",
      " [3.         3.16227766 3.60555128 4.24264069 5.        ]\n",
      " [4.         4.12310563 4.47213595 5.         5.65685425]]\n",
      "distance_route66: \n",
      " [[   0  198  303  736  871 1175 1475 1544 1913 2448]\n",
      " [ 198    0  105  538  673  977 1277 1346 1715 2250]\n",
      " [ 303  105    0  433  568  872 1172 1241 1610 2145]\n",
      " [ 736  538  433    0  135  439  739  808 1177 1712]\n",
      " [ 871  673  568  135    0  304  604  673 1042 1577]\n",
      " [1175  977  872  439  304    0  300  369  738 1273]\n",
      " [1475 1277 1172  739  604  300    0   69  438  973]\n",
      " [1544 1346 1241  808  673  369   69    0  369  904]\n",
      " [1913 1715 1610 1177 1042  738  438  369    0  535]\n",
      " [2448 2250 2145 1712 1577 1273  973  904  535    0]]\n",
      "distance_route66 in km: \n",
      " [[   0.          318.65021058  487.63138286 1184.47755045 1401.73905766\n",
      "  1890.97978502 2373.78313439 2484.82790475 3078.67602447 3939.67533084]\n",
      " [ 318.65021058    0.          168.98117228  865.82733987 1083.08884708\n",
      "  1572.32957444 2055.13292381 2166.17769416 2760.02581389 3621.02512026]\n",
      " [ 487.63138286  168.98117228    0.          696.84616759  914.1076748\n",
      "  1403.34840216 1886.15175153 1997.19652188 2591.04464161 3452.04394798]\n",
      " [1184.47755045  865.82733987  696.84616759    0.          217.26150722\n",
      "   706.50223457 1189.30558394 1300.3503543  1894.19847402 2755.19778039]\n",
      " [1401.73905766 1083.08884708  914.1076748   217.26150722    0.\n",
      "   489.24072736  972.04407673 1083.08884708 1676.9369668  2537.93627318]\n",
      " [1890.97978502 1572.32957444 1403.34840216  706.50223457  489.24072736\n",
      "     0.          482.80334937  593.84811972 1187.69623944 2048.69554582]\n",
      " [2373.78313439 2055.13292381 1886.15175153 1189.30558394  972.04407673\n",
      "   482.80334937    0.          111.04477035  704.89289008 1565.89219645]\n",
      " [2484.82790475 2166.17769416 1997.19652188 1300.3503543  1083.08884708\n",
      "   593.84811972  111.04477035    0.          593.84811972 1454.84742609]\n",
      " [3078.67602447 2760.02581389 2591.04464161 1894.19847402 1676.9369668\n",
      "  1187.69623944  704.89289008  593.84811972    0.          860.99930637]\n",
      " [3939.67533084 3621.02512026 3452.04394798 2755.19778039 2537.93627318\n",
      "  2048.69554582 1565.89219645 1454.84742609  860.99930637    0.        ]]\n"
     ]
    }
   ],
   "source": [
    "#1.\n",
    "x=np.arange(5)\n",
    "y=np.arange(5)[:,np.newaxis]\n",
    "distance=np.sqrt(x**2 + y**2)\n",
    "print('distance_grid: \\n',distance)\n",
    "\n",
    "#2.\n",
    "x1=np.array([0, 198, 303, 736, 871, 1175, 1475, 1544, 1913, 2448])\n",
    "y1=x1[:,np.newaxis]\n",
    "distance2=np.abs(x1-y1)\n",
    "print('distance_route66: \\n',distance2)\n",
    "\n",
    "#3.\n",
    "#1 km= 0,621371 miles\n",
    "x2=x1/0.621371\n",
    "y2=x2[:,np.newaxis]\n",
    "distance3=np.abs(x2-y2)\n",
    "print('distance_route66 in km: \\n',distance3)"
   ]
  },
  {
   "cell_type": "raw",
   "metadata": {},
   "source": [
    "7\\. **Prime numbers sieve**\n",
    "\n",
    "Compute the prime numbers in the 0-N (start with N=99) range with a sieve (mask).\n",
    "\n",
    "  * Constract a shape (N,) boolean array, which is the mask\n",
    "  * Identify the multiples of each number starting from 2 and set accordingly the corresponding mask element\n",
    "  * Apply the mask to obtain an array of ordered prime numbers\n",
    "  * Check the performances (with `timeit`); how does it scale with N?\n",
    "  * Implement the optimization suggested in the [sieve of Eratosthenes](https://en.wikipedia.org/wiki/Sieve_of_Eratosthenes)"
   ]
  },
  {
   "cell_type": "code",
   "execution_count": 9,
   "metadata": {},
   "outputs": [
    {
     "name": "stdout",
     "output_type": "stream",
     "text": [
      "mask: \n",
      " [True, True, False, True, False, True, False, True, False, False, False, True, False, True, False, False, False, True, False, True, False, False, False, True, False, False, False, False, False, True, False, True, False, False, False, False, False, True, False, False, False, True, False, True, False, False, False, True, False, False, False, False, False, True, False, False, False, False, False, True, False, True, False, False, False, False, False, True, False, False, False, True, False, True, False, False, False, False, False, True, False, False, False, True, False, False, False, False, False, True, False, False, False, False, False, False, False, True, False, True]\n",
      "prime_numbers: \n",
      " [ 3  5  7 11 13 17 19 23 29 31 37 41 43 47 53 59 61 67 71 73 79 83 89 97\n",
      " 99]\n",
      "time of the function:  0.00018359799999956294\n",
      "mask optimized: \n",
      " [True, True, False, True, False, True, False, True, False, False, False, True, False, True, False, False, False, True, False, True, False, False, False, True, False, False, False, False, False, True, False, True, False, False, False, False, False, True, False, False, False, True, False, True, False, False, False, True, False, False, False, False, False, True, False, False, False, False, False, True, False, True, False, False, False, False, False, True, False, False, False, True, False, True, False, False, False, False, False, True, False, False, False, True, False, False, False, False, False, True, False, False, False, False, False, False, False, True, False, True]\n",
      "Are the two masks the same objects ?:  True\n",
      "prime_numbers with Sieve of Eratosthenes: \n",
      " [ 3  5  7 11 13 17 19 23 29 31 37 41 43 47 53 59 61 67 71 73 79 83 89 97\n",
      " 99]\n",
      "time of the function:  1.6455999997333493e-05\n"
     ]
    }
   ],
   "source": [
    "import timeit\n",
    "N=99\n",
    "mask= [True]*(N+1)\n",
    "numbers=np.arange(N+1)\n",
    "\n",
    "\n",
    "def isPrime(mask,N):\n",
    "    for i in range(2,N):\n",
    "        if  i % 2 == 0:\n",
    "            mask[i]=False\n",
    "        for x in range(2,i//2):\n",
    "            if i%x==0:\n",
    "                mask[i]=False\n",
    "    return mask\n",
    "\n",
    "print('mask: \\n',isPrime(mask,N))\n",
    "prime_numbers=numbers[isPrime(mask,N)] \n",
    "prime_numbers=prime_numbers[2:]\n",
    "print('prime_numbers: \\n',prime_numbers)\n",
    "print('time of the function: ',timeit.timeit('isPrime(mask,N)',globals=globals(), number=1))\n",
    "\n",
    "def isPrime_opti(mask,N):\n",
    "    l=int(np.sqrt(N))\n",
    "    for i in range(2,l+1):\n",
    "        if mask[i]:\n",
    "            for j in range(i**2,N,i):\n",
    "                mask[j]=False\n",
    "    return mask\n",
    "\n",
    "print('mask optimized: \\n',isPrime_opti(mask,N))\n",
    "print('Are the two masks the same objects ?: ',isPrime(mask,N) == isPrime_opti(mask,N))\n",
    "prime_numbers=numbers[isPrime_opti(mask,N)] \n",
    "prime_numbers=prime_numbers[2:]\n",
    "print('prime_numbers with Sieve of Eratosthenes: \\n',prime_numbers)\n",
    "print('time of the function: ',timeit.timeit('isPrime_opti(mask,N)',globals=globals(), number=1))\n",
    "\n",
    "#The optimized function using the Sieve_of_Eratosthenes is faster"
   ]
  },
  {
   "cell_type": "markdown",
   "metadata": {},
   "source": [
    "8\\. **Diffusion using random walk**\n",
    "\n",
    "Consider a simple random walk process: at each step in time, a walker jumps right or left (+1 or -1) with equal probability. The goal is to find the typical distance from the origin of many random walkers after a given amount of time.\n",
    "\n",
    "*Hint*: create a 2D array where each row represents a walker, and each column represents a time step.\n",
    "\n",
    "  * Take 1000 walkers and let them walk for 200 steps\n",
    "  * Use `randint` to create a 2D array of size $walkers \\times steps$ with values -1 or 1\n",
    "  * Calculate the walking distances for each walker (e.g. by summing the elements in each row)\n",
    "  * Take the square of the previously-obtained array (element-wise)\n",
    "  * Compute the mean of the squared distances at each step (i.e. the mean along the columns)\n",
    "  * **Optional**: plot the average distances ($\\sqrt(distance^2)$) as a function of time (step)"
   ]
  },
  {
   "cell_type": "code",
   "execution_count": 10,
   "metadata": {},
   "outputs": [
    {
     "name": "stdout",
     "output_type": "stream",
     "text": [
      "2D array walkers x steps:  \n",
      " [[-1  1  1 ... -1  1  1]\n",
      " [-1 -1  1 ... -1 -1  1]\n",
      " [ 1 -1  1 ...  1 -1  1]\n",
      " ...\n",
      " [-1  1 -1 ... -1  1  1]\n",
      " [-1 -1  1 ...  1 -1  1]\n",
      " [ 1 -1  1 ... -1  1 -1]]\n",
      "walking_dist:  [  0   2 -12  -2  -6  14   0  16 -18   0   0 -20  -8 -26  -8 -22  -4   4\n",
      "  20  -2 -18  -8   4 -28  -6  32  10   2   0   8  -2   2   0  -2  10 -12\n",
      "  10  -6   0  -6  16   2 -26   6 -42  12  -4  -4   0   8   4  -6 -30  32\n",
      "  -2  16 -16 -14 -30  10   4  -2   2 -12  16 -10  16  16 -14  12  18 -16\n",
      "   8 -28  -6 -20  -8  14 -10  12 -30  22  -2   4 -14  -6  22 -24  20  16\n",
      "  -2  -8  -6 -32  12  -4  -6  -8   4   6 -14 -16 -20   0 -10 -20  14   4\n",
      "   0   2 -10  16  18  12 -10   2  28 -20   2   2   6  22  -2   8  -8  -2\n",
      "  -8 -10  -8 -12  -6 -20 -10 -14 -22  22  32   8 -10 -24 -20 -12  22 -12\n",
      "  14  -2  10 -12   6   0  -4  -6  18  12 -14  28 -14  -8  -8   2   4 -20\n",
      "  -2  16  10  30  14   2 -10  -6  -4  -4   8 -20 -12   8   8 -10  16 -16\n",
      "  30 -14  20 -14   0 -10  22  10  -2   0 -12  -2   6   6  -4  26 -14  10\n",
      " -14 -10  -6  -8 -22  -2  24   6  -6 -16   4  12  10   6  -4 -10   0   0\n",
      "   0   4  10   4  18   2  26   4  -8 -20  -8  22   8  -6  14   2 -18  18\n",
      "  46  -8  20   2  -2 -14   8 -10   6   2   8  -6  -2  20  20  -8  18  16\n",
      " -14  -4   8  26  18  16   4 -10  -4   2  14  12  -2  12  -2   4 -14 -18\n",
      " -22  26  -6  24  20  14   2 -10   2  16  22 -10   6   4   0 -14  36 -18\n",
      "  16  10  -6  -2 -12 -20  14   6  18  -8   0   2  -4  22  10  -4   6 -28\n",
      "  14  14  12 -16 -14  16  14   4 -16  -8  10  16  -6 -10 -10  16   2   2\n",
      "  -6   4 -12 -28   6  16  10 -18  -8   4 -14  -6  18 -12   0   6  10 -10\n",
      "  12   0   2  14  -4  10  -4  -6   2  -8   8  10   4  12  14   8   8 -14\n",
      "   4  -2  26  10  -4 -10  20  14 -14  12  -4  34  -8   4   8 -18   4  -2\n",
      "   0  -2   8   8   8   8 -14 -38  -4 -20  -8 -24  12   0  -2   4 -10 -28\n",
      "  -2 -16   2  16 -10  -8  30 -22  14   6 -12 -14   4  -8 -22   0  14  -6\n",
      "   4 -18 -10 -16   0  12 -32   0   2   2 -20  24 -10  -8  16   0  18   6\n",
      "  -4 -16  -2  -8   0 -24  -2   4  -6 -14 -10   4 -24   8  -4   4 -18  10\n",
      "   0   6 -16 -20   4   0  -6 -22  20   0 -22 -14 -12   4 -10  -6 -14 -28\n",
      "  -8  16   8   6  -2   4   8  14   2  22   4  -6   0  26  12 -12   2  -4\n",
      " -14   8   4   4  -2  -4  22  10   4   0  -2  -4   0  -4 -14  -8   2 -14\n",
      "   4   0 -16  20 -22  -4  -4   4  22 -26   6   8  14   0  12   4 -12 -12\n",
      "   0  20   4   6  14  -4  16 -18  16  22  -4   8   0  28 -32  14  10 -16\n",
      " -12  10  -6   6   6  -2  -2 -28 -24  18 -12   8  26 -12   2 -26  -8  22\n",
      " -24   0  -2   2 -14  -2 -18 -30  -8 -24  36 -24   2  -2  10   2 -10   0\n",
      " -10 -10 -26  -4  34  -4  12 -10  18  28  -8  10  18   4  10 -20  26 -12\n",
      "  16   8  38  16   6 -18 -22 -30   2   6  22 -12  -4   8  -4 -18  -2 -20\n",
      "   8 -20  12  18  18   2   4  16   0   2   0 -10   4   4  -4   4 -14  12\n",
      "  -2  12 -16   4   8   4   0 -22  -2  -6   8  -2 -10   4  20   6  30  34\n",
      "   8  20  -6  16  10   2   8  -4  22  -4  -8  -2  12   2  16   2  14  16\n",
      "   4   2   4 -10  14 -16  30  -6 -10  14   6 -18   2  30 -24  -6 -26  30\n",
      "  -4  -8   0 -18  10   0  -4 -12   4  32   4   2  14 -12  28   2  18 -14\n",
      "  14   4  12 -24  10   0   4 -18 -10  -6  -6   2 -12 -20  22   8  16  -8\n",
      "   6 -14  14   4 -16 -12   0  12 -18  -4  -8  -6  -4  -8  -8   2 -14  -2\n",
      " -16 -10  -2  -2   6 -16   2   4  -6  -4  -8 -10  18   2  10  10   2 -26\n",
      " -18  -8  10 -30   6  12  10   2 -12 -36   6  -6  28   0  10 -16  16   2\n",
      "  12  -8  18  12   8 -18  10  -2   8  -6  12 -10  -8   8   2  -2 -24  -8\n",
      "   4 -10   2  16   0  -2   2   2  18  22  22   0   2  14   8   0   4  -6\n",
      " -14   6  10   6 -38  -6  -4  18   4 -12   0  36   8   6 -22  -2 -12 -20\n",
      "   4 -14  14   8  -6  16  -2 -14 -24  14 -16 -10  -4   2  10   4  -8   2\n",
      "   6  20   8   8  24  -8  18   2   4 -22   6  16  20   2   2  18  -6  -8\n",
      "   0 -12  14   8 -12 -26 -10  -4 -10  18  -4  -8  -2  -6  -4  10  26   2\n",
      " -12   4  24  -6  18   8 -26  -4 -14  -6  -8   4 -18  12 -24   2   8   6\n",
      "  -2   2  -6 -32   8 -22 -16 -14  -4 -22  -2  -8  24   0  12  -6  10  12\n",
      "  -4  -2   4  12  14   8  -2 -22  -8   6   2   8  14  -8  -2   2   4   4\n",
      "   4   8  12   8  10  24   8   0  22   0  14  22  -6 -18   0  -6 -20 -16\n",
      "  14  -6   2   0  14  20  -4   0  -4   2   6 -22   4 -12 -16   4  -2  -2\n",
      "  -8  16  30  10  -8  -8   8   6 -14  -2  16  22 -24   8 -10  -2 -12   2\n",
      " -22  -4  28   8  16 -16  -6  18  18  34]\n",
      "squared distance:  [   0    4  144    4   36  196    0  256  324    0    0  400   64  676\n",
      "   64  484   16   16  400    4  324   64   16  784   36 1024  100    4\n",
      "    0   64    4    4    0    4  100  144  100   36    0   36  256    4\n",
      "  676   36 1764  144   16   16    0   64   16   36  900 1024    4  256\n",
      "  256  196  900  100   16    4    4  144  256  100  256  256  196  144\n",
      "  324  256   64  784   36  400   64  196  100  144  900  484    4   16\n",
      "  196   36  484  576  400  256    4   64   36 1024  144   16   36   64\n",
      "   16   36  196  256  400    0  100  400  196   16    0    4  100  256\n",
      "  324  144  100    4  784  400    4    4   36  484    4   64   64    4\n",
      "   64  100   64  144   36  400  100  196  484  484 1024   64  100  576\n",
      "  400  144  484  144  196    4  100  144   36    0   16   36  324  144\n",
      "  196  784  196   64   64    4   16  400    4  256  100  900  196    4\n",
      "  100   36   16   16   64  400  144   64   64  100  256  256  900  196\n",
      "  400  196    0  100  484  100    4    0  144    4   36   36   16  676\n",
      "  196  100  196  100   36   64  484    4  576   36   36  256   16  144\n",
      "  100   36   16  100    0    0    0   16  100   16  324    4  676   16\n",
      "   64  400   64  484   64   36  196    4  324  324 2116   64  400    4\n",
      "    4  196   64  100   36    4   64   36    4  400  400   64  324  256\n",
      "  196   16   64  676  324  256   16  100   16    4  196  144    4  144\n",
      "    4   16  196  324  484  676   36  576  400  196    4  100    4  256\n",
      "  484  100   36   16    0  196 1296  324  256  100   36    4  144  400\n",
      "  196   36  324   64    0    4   16  484  100   16   36  784  196  196\n",
      "  144  256  196  256  196   16  256   64  100  256   36  100  100  256\n",
      "    4    4   36   16  144  784   36  256  100  324   64   16  196   36\n",
      "  324  144    0   36  100  100  144    0    4  196   16  100   16   36\n",
      "    4   64   64  100   16  144  196   64   64  196   16    4  676  100\n",
      "   16  100  400  196  196  144   16 1156   64   16   64  324   16    4\n",
      "    0    4   64   64   64   64  196 1444   16  400   64  576  144    0\n",
      "    4   16  100  784    4  256    4  256  100   64  900  484  196   36\n",
      "  144  196   16   64  484    0  196   36   16  324  100  256    0  144\n",
      " 1024    0    4    4  400  576  100   64  256    0  324   36   16  256\n",
      "    4   64    0  576    4   16   36  196  100   16  576   64   16   16\n",
      "  324  100    0   36  256  400   16    0   36  484  400    0  484  196\n",
      "  144   16  100   36  196  784   64  256   64   36    4   16   64  196\n",
      "    4  484   16   36    0  676  144  144    4   16  196   64   16   16\n",
      "    4   16  484  100   16    0    4   16    0   16  196   64    4  196\n",
      "   16    0  256  400  484   16   16   16  484  676   36   64  196    0\n",
      "  144   16  144  144    0  400   16   36  196   16  256  324  256  484\n",
      "   16   64    0  784 1024  196  100  256  144  100   36   36   36    4\n",
      "    4  784  576  324  144   64  676  144    4  676   64  484  576    0\n",
      "    4    4  196    4  324  900   64  576 1296  576    4    4  100    4\n",
      "  100    0  100  100  676   16 1156   16  144  100  324  784   64  100\n",
      "  324   16  100  400  676  144  256   64 1444  256   36  324  484  900\n",
      "    4   36  484  144   16   64   16  324    4  400   64  400  144  324\n",
      "  324    4   16  256    0    4    0  100   16   16   16   16  196  144\n",
      "    4  144  256   16   64   16    0  484    4   36   64    4  100   16\n",
      "  400   36  900 1156   64  400   36  256  100    4   64   16  484   16\n",
      "   64    4  144    4  256    4  196  256   16    4   16  100  196  256\n",
      "  900   36  100  196   36  324    4  900  576   36  676  900   16   64\n",
      "    0  324  100    0   16  144   16 1024   16    4  196  144  784    4\n",
      "  324  196  196   16  144  576  100    0   16  324  100   36   36    4\n",
      "  144  400  484   64  256   64   36  196  196   16  256  144    0  144\n",
      "  324   16   64   36   16   64   64    4  196    4  256  100    4    4\n",
      "   36  256    4   16   36   16   64  100  324    4  100  100    4  676\n",
      "  324   64  100  900   36  144  100    4  144 1296   36   36  784    0\n",
      "  100  256  256    4  144   64  324  144   64  324  100    4   64   36\n",
      "  144  100   64   64    4    4  576   64   16  100    4  256    0    4\n",
      "    4    4  324  484  484    0    4  196   64    0   16   36  196   36\n",
      "  100   36 1444   36   16  324   16  144    0 1296   64   36  484    4\n",
      "  144  400   16  196  196   64   36  256    4  196  576  196  256  100\n",
      "   16    4  100   16   64    4   36  400   64   64  576   64  324    4\n",
      "   16  484   36  256  400    4    4  324   36   64    0  144  196   64\n",
      "  144  676  100   16  100  324   16   64    4   36   16  100  676    4\n",
      "  144   16  576   36  324   64  676   16  196   36   64   16  324  144\n",
      "  576    4   64   36    4    4   36 1024   64  484  256  196   16  484\n",
      "    4   64  576    0  144   36  100  144   16    4   16  144  196   64\n",
      "    4  484   64   36    4   64  196   64    4    4   16   16   16   64\n",
      "  144   64  100  576   64    0  484    0  196  484   36  324    0   36\n",
      "  400  256  196   36    4    0  196  400   16    0   16    4   36  484\n",
      "   16  144  256   16    4    4   64  256  900  100   64   64   64   36\n",
      "  196    4  256  484  576   64  100    4  144    4  484   16  784   64\n",
      "  256  256   36  324  324 1156]\n",
      "mean of squared dist for each step: \n",
      " [  1.      2.016   3.      3.972   4.912   5.8     6.712   7.792   8.944\n",
      "   9.864  10.736  11.692  12.528  13.588  14.288  15.06   16.     16.968\n",
      "  17.728  18.624  20.016  21.032  22.168  23.056  23.984  25.344  25.616\n",
      "  26.564  28.064  29.012  29.632  31.36   32.496  33.38   33.76   35.092\n",
      "  35.984  36.752  37.264  38.196  38.68   39.332  40.416  40.896  41.984\n",
      "  43.108  43.792  44.952  45.888  46.444  47.176  48.156  49.144  49.584\n",
      "  50.168  51.368  52.24   52.568  53.4    55.192  55.728  56.176  57.248\n",
      "  57.244  58.888  60.284  61.272  62.228  63.592  64.548  65.24   66.612\n",
      "  67.416  68.4    69.544  71.18   71.768  71.956  72.496  73.216  74.128\n",
      "  74.264  74.544  74.588  75.984  77.452  78.192  79.536  80.016  79.916\n",
      "  81.496  82.736  83.776  84.852  85.536  86.7    87.752  89.74   92.192\n",
      "  92.084  92.912  93.788  95.488  95.492  96.032  96.084  98.496  99.912\n",
      " 101.928 103.068 102.784 104.396 105.672 106.452 106.816 107.848 108.968\n",
      " 109.356 109.488 110.516 110.992 110.608 110.96  111.772 112.656 113.096\n",
      " 113.752 114.872 116.424 117.968 118.52  119.776 121.32  123.064 123.52\n",
      " 123.984 124.248 124.996 127.464 129.432 130.928 131.848 132.344 134.124\n",
      " 134.248 134.888 135.368 136.404 136.936 137.184 137.392 138.18  138.792\n",
      " 139.892 141.976 142.272 144.432 145.212 145.536 145.2   146.856 147.252\n",
      " 146.776 147.128 148.912 149.684 150.88  153.404 154.12  154.88  156.088\n",
      " 156.552 156.704 156.5   157.408 158.328 158.944 160.372 161.472 162.664\n",
      " 164.12  164.972 164.984 164.828 166.608 169.272 171.648 173.408 173.872\n",
      " 175.532 177.104 177.2   176.688 177.06  178.24  179.264 180.008 181.5\n",
      " 183.152 184.36 ]\n",
      "[[ -1   0   1 ...  -2  -1   0]\n",
      " [ -1  -2  -1 ...   2   1   2]\n",
      " [  1   0   1 ... -12 -13 -12]\n",
      " ...\n",
      " [ -1   0  -1 ...  16  17  18]\n",
      " [ -1  -2  -1 ...  18  17  18]\n",
      " [  1   0   1 ...  34  35  34]]\n"
     ]
    },
    {
     "data": {
      "image/png": "[encoded data removed]",
      "text/plain": [
       "<Figure size 432x288 with 1 Axes>"
      ]
     },
     "metadata": {
      "needs_background": "light"
     },
     "output_type": "display_data"
    }
   ],
   "source": [
    "import numpy as np\n",
    "import matplotlib.pyplot as plt\n",
    "\n",
    "x=np.arange(1000)\n",
    "y=np.arange(200)[:,np.newaxis]\n",
    "walk= np.random.randint(0,2,size=(len(x),len(y)))\n",
    "walk[walk == 0]=-1\n",
    "print('2D array walkers x steps:  \\n',walk)\n",
    "\n",
    "walking_dist=np.sum(walk,axis = 1)\n",
    "print('walking_dist: ',walking_dist)\n",
    "\n",
    "square_walking_dist=np.square(walking_dist)\n",
    "print('squared distance: ',square_walking_dist )\n",
    "\n",
    "\n",
    "dist_each_step = np.cumsum(walk,axis = 1)\n",
    "sq_dist_each_step = np.square(dist_each_step)\n",
    "mean_sq_dist = np.mean(sq_dist_each_step, axis = 0)\n",
    "print('mean of squared dist for each step: \\n',mean_sq_dist)\n",
    "\n",
    "plt.title(\"Average distance\")\n",
    "print(dist_each_step)\n",
    "plt.plot(np.arange(200), mean_sq_dist, color=\"red\")\n",
    "plt.show()"
   ]
  }
 ],
 "metadata": {
  "kernelspec": {
   "display_name": "Python 3 (ipykernel)",
   "language": "python",
   "name": "python3"
  },
  "language_info": {
   "codemirror_mode": {
    "name": "ipython",
    "version": 3
   },
   "file_extension": ".py",
   "mimetype": "text/x-python",
   "name": "python",
   "nbconvert_exporter": "python",
   "pygments_lexer": "ipython3",
   "version": "3.9.12"
  }
 },
 "nbformat": 4,
 "nbformat_minor": 2
}
