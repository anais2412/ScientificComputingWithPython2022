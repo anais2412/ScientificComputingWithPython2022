{
 "cells": [
  {
   "cell_type": "markdown",
   "metadata": {},
   "source": [
    "1\\. **Reductions**\n",
    "\n",
    "Find the total mean, and the mean for each row and column of the following matrix:\n",
    "\n",
    "```python\n",
    "m = np.arange(12).reshape((3,4))\n",
    "```"
   ]
  },
  {
   "cell_type": "code",
   "execution_count": 2,
   "metadata": {},
   "outputs": [
    {
     "name": "stdout",
     "output_type": "stream",
     "text": [
      "total mean is:  5.5\n",
      "mean of the columns:  [4. 5. 6. 7.]\n",
      "mean of the lines:  [1.5 5.5 9.5]\n"
     ]
    }
   ],
   "source": [
    "## Anaïs FRAGNE\n",
    "\n",
    "import  numpy as np \n",
    "\n",
    "m = np.arange(12).reshape((3,4))\n",
    "print('total mean is: ',np.mean(m))\n",
    "print('mean of the columns: ',np.mean(m,axis=0))\n",
    "print('mean of the lines: ',np.mean(m,axis=1))"
   ]
  },
  {
   "cell_type": "markdown",
   "metadata": {},
   "source": [
    "2\\. **Outer product**\n",
    "\n",
    "Find the outer product of the following vectors:\n",
    "\n",
    "```python\n",
    "u = np.array([1, 3, 5, 7])\n",
    "v = np.array([2, 4, 6, 8])\n",
    "```\n",
    "\n",
    "Use different methods to do this:\n",
    "\n",
    "   1. Using the function `outer` in numpy\n",
    "   2. Using a nested `for` loop or a list comprehension\n",
    "   3. Using numpy broadcasting operations"
   ]
  },
  {
   "cell_type": "code",
   "execution_count": 5,
   "metadata": {},
   "outputs": [
    {
     "name": "stdout",
     "output_type": "stream",
     "text": [
      "[1 3 5 7]\n",
      "[2 4 6 8]\n",
      "Outer product:  [[ 2  4  6  8]\n",
      " [ 6 12 18 24]\n",
      " [10 20 30 40]\n",
      " [14 28 42 56]]\n"
     ]
    }
   ],
   "source": [
    "u = np.array([1, 3, 5, 7])\n",
    "v = np.array([2, 4, 6, 8])\n",
    "#1. Outer \n",
    "\n",
    "print(u)\n",
    "print(v)\n",
    "\n",
    "print('Outer product: ',np.outer(u,v))"
   ]
  },
  {
   "cell_type": "code",
   "execution_count": 9,
   "metadata": {},
   "outputs": [
    {
     "name": "stdout",
     "output_type": "stream",
     "text": [
      "[[2, 4, 6, 8], [6, 12, 18, 24], [10, 20, 30, 40], [14, 28, 42, 56]]\n"
     ]
    }
   ],
   "source": [
    "#2. For\n",
    "outer=[[u[i]*v[j] for j in range(len(v))] for i in range(len(u))]\n",
    "print('Outer product with for loop: ',outer)"
   ]
  },
  {
   "cell_type": "code",
   "execution_count": 25,
   "metadata": {},
   "outputs": [
    {
     "name": "stdout",
     "output_type": "stream",
     "text": [
      "Outer product with Numpy broadcasting:  [[ 2  4  6  8]\n",
      " [ 6 12 18 24]\n",
      " [10 20 30 40]\n",
      " [14 28 42 56]]\n"
     ]
    }
   ],
   "source": [
    "#3. Numpy Broadcast\n",
    "outer= u[:, np.newaxis]*v\n",
    "\n",
    "print('Outer product with Numpy broadcasting: ',outer)"
   ]
  },
  {
   "cell_type": "markdown",
   "metadata": {},
   "source": [
    "3\\. **Matrix masking**\n",
    "\n",
    "Create a 10 by 6 matrix of float random numbers, distributed between 0 and 3 according to a flat distribution.\n",
    "\n",
    "After creating the matrix, set all entries $< 0.3$ to zero using a mask."
   ]
  },
  {
   "cell_type": "code",
   "execution_count": 14,
   "metadata": {},
   "outputs": [
    {
     "name": "stdout",
     "output_type": "stream",
     "text": [
      "Matrix M:  [[1.22562376 1.15058809 2.50041348 1.37708033 0.29857664 0.89414454]\n",
      " [0.40248975 0.09475767 2.40872057 0.78270223 0.57497439 2.60484384]\n",
      " [1.28947201 1.91829497 0.45979935 1.41295871 0.66642312 2.64033525]\n",
      " [0.88996379 2.72608427 1.61736268 0.52017304 0.49261766 0.88716918]\n",
      " [2.97913036 1.50252986 2.52418975 0.45799245 2.45169627 2.61841142]\n",
      " [0.32993465 1.37581686 2.12620415 0.81350391 1.70242189 1.31437609]\n",
      " [2.60340394 2.51103381 2.495397   2.63150204 2.34418043 2.90046963]\n",
      " [1.62960591 1.44742947 1.69358918 1.55216349 0.55079971 0.04733891]\n",
      " [1.69337709 1.87255274 2.41600313 2.11917924 0.39062646 1.62536468]\n",
      " [0.32708063 1.27466288 2.50342231 0.28437515 0.92186991 0.32159664]]\n",
      "Matrix after the mask:  [[1.22562376 1.15058809 2.50041348 1.37708033 0.         0.89414454]\n",
      " [0.40248975 0.         2.40872057 0.78270223 0.57497439 2.60484384]\n",
      " [1.28947201 1.91829497 0.45979935 1.41295871 0.66642312 2.64033525]\n",
      " [0.88996379 2.72608427 1.61736268 0.52017304 0.49261766 0.88716918]\n",
      " [2.97913036 1.50252986 2.52418975 0.45799245 2.45169627 2.61841142]\n",
      " [0.32993465 1.37581686 2.12620415 0.81350391 1.70242189 1.31437609]\n",
      " [2.60340394 2.51103381 2.495397   2.63150204 2.34418043 2.90046963]\n",
      " [1.62960591 1.44742947 1.69358918 1.55216349 0.55079971 0.        ]\n",
      " [1.69337709 1.87255274 2.41600313 2.11917924 0.39062646 1.62536468]\n",
      " [0.32708063 1.27466288 2.50342231 0.         0.92186991 0.32159664]]\n"
     ]
    }
   ],
   "source": [
    "M=np.random.uniform(0, 3, size=(10,6))\n",
    "print('Matrix M: ',M)\n",
    "mask= (M<0.3)\n",
    "M[mask]=0\n",
    "print('Matrix after the mask: ',M)"
   ]
  },
  {
   "cell_type": "markdown",
   "metadata": {},
   "source": [
    "4\\. **Trigonometric functions**\n",
    "\n",
    "Use `np.linspace` to create an array of 100 numbers between $0$ and $2\\pi$ (inclusive).\n",
    "\n",
    "  * Extract every 10th element using the slice notation\n",
    "  * Reverse the array using the slice notation\n",
    "  * Extract elements where the absolute difference between the `sin` and `cos` functions evaluated for that element is $< 0.1$\n",
    "  * **Optional**: make a plot showing the sin and cos functions and indicate where they are close"
   ]
  },
  {
   "cell_type": "code",
   "execution_count": 79,
   "metadata": {},
   "outputs": [
    {
     "name": "stdout",
     "output_type": "stream",
     "text": [
      "arr:  [0.         0.06346652 0.12693304 0.19039955 0.25386607 0.31733259\n",
      " 0.38079911 0.44426563 0.50773215 0.57119866 0.63466518 0.6981317\n",
      " 0.76159822 0.82506474 0.88853126 0.95199777 1.01546429 1.07893081\n",
      " 1.14239733 1.20586385 1.26933037 1.33279688 1.3962634  1.45972992\n",
      " 1.52319644 1.58666296 1.65012947 1.71359599 1.77706251 1.84052903\n",
      " 1.90399555 1.96746207 2.03092858 2.0943951  2.15786162 2.22132814\n",
      " 2.28479466 2.34826118 2.41172769 2.47519421 2.53866073 2.60212725\n",
      " 2.66559377 2.72906028 2.7925268  2.85599332 2.91945984 2.98292636\n",
      " 3.04639288 3.10985939 3.17332591 3.23679243 3.30025895 3.36372547\n",
      " 3.42719199 3.4906585  3.55412502 3.61759154 3.68105806 3.74452458\n",
      " 3.8079911  3.87145761 3.93492413 3.99839065 4.06185717 4.12532369\n",
      " 4.1887902  4.25225672 4.31572324 4.37918976 4.44265628 4.5061228\n",
      " 4.56958931 4.63305583 4.69652235 4.75998887 4.82345539 4.88692191\n",
      " 4.95038842 5.01385494 5.07732146 5.14078798 5.2042545  5.26772102\n",
      " 5.33118753 5.39465405 5.45812057 5.52158709 5.58505361 5.64852012\n",
      " 5.71198664 5.77545316 5.83891968 5.9023862  5.96585272 6.02931923\n",
      " 6.09278575 6.15625227 6.21971879 6.28318531]\n",
      "Every 10th element of arr:  [0.         0.63466518 1.26933037 1.90399555 2.53866073 3.17332591\n",
      " 3.8079911  4.44265628 5.07732146 5.71198664]\n",
      "Reversed array:  [6.28318531 6.21971879 6.15625227 6.09278575 6.02931923 5.96585272\n",
      " 5.9023862  5.83891968 5.77545316 5.71198664 5.64852012 5.58505361\n",
      " 5.52158709 5.45812057 5.39465405 5.33118753 5.26772102 5.2042545\n",
      " 5.14078798 5.07732146 5.01385494 4.95038842 4.88692191 4.82345539\n",
      " 4.75998887 4.69652235 4.63305583 4.56958931 4.5061228  4.44265628\n",
      " 4.37918976 4.31572324 4.25225672 4.1887902  4.12532369 4.06185717\n",
      " 3.99839065 3.93492413 3.87145761 3.8079911  3.74452458 3.68105806\n",
      " 3.61759154 3.55412502 3.4906585  3.42719199 3.36372547 3.30025895\n",
      " 3.23679243 3.17332591 3.10985939 3.04639288 2.98292636 2.91945984\n",
      " 2.85599332 2.7925268  2.72906028 2.66559377 2.60212725 2.53866073\n",
      " 2.47519421 2.41172769 2.34826118 2.28479466 2.22132814 2.15786162\n",
      " 2.0943951  2.03092858 1.96746207 1.90399555 1.84052903 1.77706251\n",
      " 1.71359599 1.65012947 1.58666296 1.52319644 1.45972992 1.3962634\n",
      " 1.33279688 1.26933037 1.20586385 1.14239733 1.07893081 1.01546429\n",
      " 0.95199777 0.88853126 0.82506474 0.76159822 0.6981317  0.63466518\n",
      " 0.57119866 0.50773215 0.44426563 0.38079911 0.31733259 0.25386607\n",
      " 0.19039955 0.12693304 0.06346652 0.        ]\n",
      "filtered_array:  [0.76159822 0.82506474 3.87145761 3.93492413]\n"
     ]
    },
    {
     "data": {
      "image/png": "[encoded data removed]",
      "text/plain": [
       "<Figure size 432x288 with 1 Axes>"
      ]
     },
     "metadata": {
      "needs_background": "light"
     },
     "output_type": "display_data"
    }
   ],
   "source": [
    "arr=np.linspace(0,2*np.pi,100)\n",
    "print('arr: ',arr)\n",
    "arr2=arr[0:-1:10]\n",
    "print('Every 10th element of arr: ',arr2)\n",
    "arr_rev=arr[::-1]\n",
    "print('Reversed array: ',arr_rev)\n",
    "mask= ((abs(np.sin(arr)-np.cos(arr))<0.1))\n",
    "arr3=arr[mask]\n",
    "print('filtered_array: ',arr3)\n",
    "\n",
    "#Optional:\n",
    "\n",
    "import matplotlib.pyplot as plt\n",
    "y = np.sin(arr)\n",
    "z = np.cos(arr)\n",
    "\n",
    "plt.plot(arr,y,arr,z)\n",
    "plt.legend(['sin(x)', 'cos(x)']) \n",
    "\n",
    "\n",
    "plt.scatter(arr3[0],np.cos(arr3[0]),c='g',marker='+')\n",
    "plt.scatter(arr3[1],np.sin(arr3[1]),c='g',marker='+')\n",
    "plt.scatter(arr3[2],np.cos(arr3[2]),c='g',marker='+')\n",
    "plt.scatter(arr3[3],np.sin(arr3[3]),c='g',marker='+')\n",
    "plt.show()\n",
    "#In green, the crosses represent the points where the absolute difference between cos and sin is smaller than 0.1 according to the points of arr\n",
    "#That is to say the green crosses are where sin and cos are close"
   ]
  },
  {
   "cell_type": "markdown",
   "metadata": {},
   "source": [
    "5\\. **Matrices**\n",
    "\n",
    "Create a matrix that shows the 10 by 10 multiplication table.\n",
    "\n",
    " * Find the trace of the matrix\n",
    " * Extract the anti-diagonal matrix (this should be ```array([10, 18, 24, 28, 30, 30, 28, 24, 18, 10])```)\n",
    " * Extract the diagonal offset by 1 upwards (this should be ```array([ 2,  6, 12, 20, 30, 42, 56, 72, 90])```)"
   ]
  },
  {
   "cell_type": "code",
   "execution_count": 109,
   "metadata": {},
   "outputs": [
    {
     "name": "stdout",
     "output_type": "stream",
     "text": [
      "mult_tab:  [[1, 2, 3, 4, 5, 6, 7, 8, 9, 10], [2, 4, 6, 8, 10, 12, 14, 16, 18, 20], [3, 6, 9, 12, 15, 18, 21, 24, 27, 30], [4, 8, 12, 16, 20, 24, 28, 32, 36, 40], [5, 10, 15, 20, 25, 30, 35, 40, 45, 50], [6, 12, 18, 24, 30, 36, 42, 48, 54, 60], [7, 14, 21, 28, 35, 42, 49, 56, 63, 70], [8, 16, 24, 32, 40, 48, 56, 64, 72, 80], [9, 18, 27, 36, 45, 54, 63, 72, 81, 90], [10, 20, 30, 40, 50, 60, 70, 80, 90, 100]]\n",
      "The trace of the matrix is:  385\n",
      "The anti-diagonal matrix of my mult_tab is:  [10, 18, 24, 28, 30, 30, 28, 24, 18]\n",
      "diag_offset:  [2, 6, 12, 20, 30, 42, 56, 72, 90]\n"
     ]
    }
   ],
   "source": [
    "mult_tab=[[(i+1)*(j+1) for i in range(10)] for j in range(10)]\n",
    "print('mult_tab: ',mult_tab)\n",
    "trace_mat=[mult_tab[i][j] for i in range(10) for j in range(10) if i==j]\n",
    "trace=np.sum(trace_mat)\n",
    "print('The trace of the matrix is: ',trace)\n",
    "\n",
    "anti_diag=[mult_tab[i][j] for i in range(9,0,-1) for j in range(10) if j+1==10-i]\n",
    "print('The anti-diagonal matrix of my mult_tab is: ',anti_diag)\n",
    "\n",
    "diag_offset=[mult_tab[i][j] for i in range(10) for j in range(10) if j== i+1] \n",
    "print('diag_offset: ', diag_offset)"
   ]
  },
  {
   "cell_type": "markdown",
   "metadata": {},
   "source": [
    "6\\. **Broadcasting**\n",
    "\n",
    "Use broadcasting to create a grid of distances.\n",
    "\n",
    "Route 66 crosses the following cities in the US: Chicago, Springfield, Saint-Louis, Tulsa, Oklahoma City, Amarillo, Santa Fe, Albuquerque, Flagstaff, Los Angeles.\n",
    "\n",
    "The corresponding positions in miles are: 0, 198, 303, 736, 871, 1175, 1475, 1544, 1913, 2448\n",
    "\n",
    "  * Build a 2D grid of distances among each city along Route 66\n",
    "  * Convert the distances in km"
   ]
  },
  {
   "cell_type": "code",
   "execution_count": 128,
   "metadata": {},
   "outputs": [
    {
     "name": "stdout",
     "output_type": "stream",
     "text": [
      "distance_grid: \n",
      " [[0.         1.         2.         3.         4.        ]\n",
      " [1.         1.41421356 2.23606798 3.16227766 4.12310563]\n",
      " [2.         2.23606798 2.82842712 3.60555128 4.47213595]\n",
      " [3.         3.16227766 3.60555128 4.24264069 5.        ]\n",
      " [4.         4.12310563 4.47213595 5.         5.65685425]]\n",
      "distance_route66: \n",
      " [[   0  198  303  736  871 1175 1475 1544 1913 2448]\n",
      " [ 198    0  105  538  673  977 1277 1346 1715 2250]\n",
      " [ 303  105    0  433  568  872 1172 1241 1610 2145]\n",
      " [ 736  538  433    0  135  439  739  808 1177 1712]\n",
      " [ 871  673  568  135    0  304  604  673 1042 1577]\n",
      " [1175  977  872  439  304    0  300  369  738 1273]\n",
      " [1475 1277 1172  739  604  300    0   69  438  973]\n",
      " [1544 1346 1241  808  673  369   69    0  369  904]\n",
      " [1913 1715 1610 1177 1042  738  438  369    0  535]\n",
      " [2448 2250 2145 1712 1577 1273  973  904  535    0]]\n",
      "distance_route66 in km: \n",
      " [[   0.          318.65021058  487.63138286 1184.47755045 1401.73905766\n",
      "  1890.97978502 2373.78313439 2484.82790475 3078.67602447 3939.67533084]\n",
      " [ 318.65021058    0.          168.98117228  865.82733987 1083.08884708\n",
      "  1572.32957444 2055.13292381 2166.17769416 2760.02581389 3621.02512026]\n",
      " [ 487.63138286  168.98117228    0.          696.84616759  914.1076748\n",
      "  1403.34840216 1886.15175153 1997.19652188 2591.04464161 3452.04394798]\n",
      " [1184.47755045  865.82733987  696.84616759    0.          217.26150722\n",
      "   706.50223457 1189.30558394 1300.3503543  1894.19847402 2755.19778039]\n",
      " [1401.73905766 1083.08884708  914.1076748   217.26150722    0.\n",
      "   489.24072736  972.04407673 1083.08884708 1676.9369668  2537.93627318]\n",
      " [1890.97978502 1572.32957444 1403.34840216  706.50223457  489.24072736\n",
      "     0.          482.80334937  593.84811972 1187.69623944 2048.69554582]\n",
      " [2373.78313439 2055.13292381 1886.15175153 1189.30558394  972.04407673\n",
      "   482.80334937    0.          111.04477035  704.89289008 1565.89219645]\n",
      " [2484.82790475 2166.17769416 1997.19652188 1300.3503543  1083.08884708\n",
      "   593.84811972  111.04477035    0.          593.84811972 1454.84742609]\n",
      " [3078.67602447 2760.02581389 2591.04464161 1894.19847402 1676.9369668\n",
      "  1187.69623944  704.89289008  593.84811972    0.          860.99930637]\n",
      " [3939.67533084 3621.02512026 3452.04394798 2755.19778039 2537.93627318\n",
      "  2048.69554582 1565.89219645 1454.84742609  860.99930637    0.        ]]\n"
     ]
    }
   ],
   "source": [
    "#1.\n",
    "x=np.arange(5)\n",
    "y=np.arange(5)[:,np.newaxis]\n",
    "distance=np.sqrt(x**2 + y**2)\n",
    "print('distance_grid: \\n',distance)\n",
    "\n",
    "#2.\n",
    "x1=np.array([0, 198, 303, 736, 871, 1175, 1475, 1544, 1913, 2448])\n",
    "y1=x1[:,np.newaxis]\n",
    "distance2=np.abs(x1-y1)\n",
    "print('distance_route66: \\n',distance2)\n",
    "\n",
    "#3.\n",
    "#1 km= 0,621371 miles\n",
    "x2=x1/0.621371\n",
    "y2=x2[:,np.newaxis]\n",
    "distance3=np.abs(x2-y2)\n",
    "print('distance_route66 in km: \\n',distance3)"
   ]
  },
  {
   "cell_type": "raw",
   "metadata": {},
   "source": [
    "7\\. **Prime numbers sieve**\n",
    "\n",
    "Compute the prime numbers in the 0-N (start with N=99) range with a sieve (mask).\n",
    "\n",
    "  * Constract a shape (N,) boolean array, which is the mask\n",
    "  * Identify the multiples of each number starting from 2 and set accordingly the corresponding mask element\n",
    "  * Apply the mask to obtain an array of ordered prime numbers\n",
    "  * Check the performances (with `timeit`); how does it scale with N?\n",
    "  * Implement the optimization suggested in the [sieve of Eratosthenes](https://en.wikipedia.org/wiki/Sieve_of_Eratosthenes)"
   ]
  },
  {
   "cell_type": "code",
   "execution_count": 161,
   "metadata": {},
   "outputs": [
    {
     "name": "stdout",
     "output_type": "stream",
     "text": [
      "mask: \n",
      " [True, True, False, True, False, True, False, True, False, False, False, True, False, True, False, False, False, True, False, True, False, False, False, True, False, False, False, False, False, True, False, True, False, False, False, False, False, True, False, False, False, True, False, True, False, False, False, True, False, False, False, False, False, True, False, False, False, False, False, True, False, True, False, False, False, False, False, True, False, False, False, True, False, True, False, False, False, False, False, True, False, False, False, True, False, False, False, False, False, True, False, False, False, False, False, False, False, True, False, True]\n",
      "prime_numbers: \n",
      " [ 3  5  7 11 13 17 19 23 29 31 37 41 43 47 53 59 61 67 71 73 79 83 89 97\n",
      " 99]\n",
      "time of the function:  0.00013008299720240757\n",
      "mask optimized: \n",
      " [True, True, False, True, False, True, False, True, False, False, False, True, False, True, False, False, False, True, False, True, False, False, False, True, False, False, False, False, False, True, False, True, False, False, False, False, False, True, False, False, False, True, False, True, False, False, False, True, False, False, False, False, False, True, False, False, False, False, False, True, False, True, False, False, False, False, False, True, False, False, False, True, False, True, False, False, False, False, False, True, False, False, False, True, False, False, False, False, False, True, False, False, False, False, False, False, False, True, False, True]\n",
      "Are the two masks the same objects ?:  True\n",
      "prime_numbers with Sieve of Eratosthenes: \n",
      " [ 3  5  7 11 13 17 19 23 29 31 37 41 43 47 53 59 61 67 71 73 79 83 89 97\n",
      " 99]\n",
      "time of the function:  1.0994001058861613e-05\n"
     ]
    }
   ],
   "source": [
    "import timeit\n",
    "N=99\n",
    "mask= [True]*(N+1)\n",
    "numbers=np.arange(N+1)\n",
    "\n",
    "\n",
    "def isPrime(mask,N):\n",
    "    for i in range(2,N):\n",
    "        if  i % 2 == 0:\n",
    "            mask[i]=False\n",
    "        for x in range(2,i//2):\n",
    "            if i%x==0:\n",
    "                mask[i]=False\n",
    "    return mask\n",
    "\n",
    "print('mask: \\n',isPrime(mask,N))\n",
    "prime_numbers=numbers[isPrime(mask,N)] \n",
    "prime_numbers=prime_numbers[2:]\n",
    "print('prime_numbers: \\n',prime_numbers)\n",
    "print('time of the function: ',timeit.timeit('isPrime(mask,N)',globals=globals(), number=1))\n",
    "\n",
    "def isPrime_opti(mask,N):\n",
    "    l=int(np.sqrt(N))\n",
    "    for i in range(2,l+1):\n",
    "        if mask[i]:\n",
    "            for j in range(i**2,N,i):\n",
    "                mask[j]=False\n",
    "    return mask\n",
    "\n",
    "print('mask optimized: \\n',isPrime_opti(mask,N))\n",
    "print('Are the two masks the same objects ?: ',isPrime(mask,N) == isPrime_opti(mask,N))\n",
    "prime_numbers=numbers[isPrime_opti(mask,N)] \n",
    "prime_numbers=prime_numbers[2:]\n",
    "print('prime_numbers with Sieve of Eratosthenes: \\n',prime_numbers)\n",
    "print('time of the function: ',timeit.timeit('isPrime_opti(mask,N)',globals=globals(), number=1))\n",
    "\n",
    "#The optimized function using the Sieve_of_Eratosthenes is faster"
   ]
  },
  {
   "cell_type": "markdown",
   "metadata": {},
   "source": [
    "8\\. **Diffusion using random walk**\n",
    "\n",
    "Consider a simple random walk process: at each step in time, a walker jumps right or left (+1 or -1) with equal probability. The goal is to find the typical distance from the origin of many random walkers after a given amount of time.\n",
    "\n",
    "*Hint*: create a 2D array where each row represents a walker, and each column represents a time step.\n",
    "\n",
    "  * Take 1000 walkers and let them walk for 200 steps\n",
    "  * Use `randint` to create a 2D array of size $walkers \\times steps$ with values -1 or 1\n",
    "  * Calculate the walking distances for each walker (e.g. by summing the elements in each row)\n",
    "  * Take the square of the previously-obtained array (element-wise)\n",
    "  * Compute the mean of the squared distances at each step (i.e. the mean along the columns)\n",
    "  * **Optional**: plot the average distances ($\\sqrt(distance^2)$) as a function of time (step)"
   ]
  },
  {
   "cell_type": "code",
   "execution_count": 25,
   "metadata": {},
   "outputs": [
    {
     "name": "stdout",
     "output_type": "stream",
     "text": [
      "2D array walkers x steps:  \n",
      " [[-1  1 -1 ...  1  1 -1]\n",
      " [-1  1 -1 ... -1 -1  1]\n",
      " [-1  1  1 ...  1 -1 -1]\n",
      " ...\n",
      " [ 1 -1 -1 ...  1 -1 -1]\n",
      " [ 1 -1 -1 ... -1 -1 -1]\n",
      " [ 1  1  1 ... -1 -1  1]]\n",
      "walking_dist:  [  0 -16  16   2 -14 -40 -14  20   2  -2  14  -6  24  14  52  -2  -6  22\n",
      " -12  10   2 -14  18  -6  -6   4  30   8  -2 -20   2   8  18  18 -14 -14\n",
      "   8   4 -24 -18 -18  -8  -4   2  -4 -30   4 -26   4   6   6  28  28  -6\n",
      " -12   0  -8  30  -8  32   6 -22 -12   2  18  -2  -4 -28  12  -6 -16 -12\n",
      " -16 -20  -2 -14   4   4   0  -8   4  -2  16 -18   2  -2  -8   2 -22  -8\n",
      "  -4   0   6  -8 -28  -2   8   6   6  -2 -14  -6   0   0  10 -14   4  -8\n",
      " -26   2  -6   6 -20  20 -12   6  34 -28  20   4  -8 -12   6  -2  26 -16\n",
      " -10  20  12 -10  -6 -12  14   4  10   0 -24  18   4   0   0 -16  -2   8\n",
      "  22   8  24  14   0   8  -2  10  -6 -16 -18  -6 -14  14  10  10 -24 -10\n",
      "  18  -6 -26   8   6  -6   4   6  -6   0   6  -4 -12 -28 -16 -30   8 -16\n",
      "  12  16 -14  -8 -16 -14   0  10   2  12   4  -6   0  12  28   8  -8   2\n",
      "  -4  -4 -20   8   8  -4   4   6  14  -8  26   8  20   4   6  16  12  22\n",
      " -12  -8 -10  22  -8 -26   6  10  12  -8  24  -4  12  -8 -14  18  -6 -10\n",
      "  -2 -12  -4  -2 -22  20  16  18   6  16 -10 -10   4   4 -12   2 -18  -2\n",
      " -12 -14   6  22 -22  16   8  -4  22 -14   2  12   0  -4 -16 -24 -18  -2\n",
      "  14 -18 -20  -8  -4 -20   6  -4  -6   0  18  14  26   4   4  -8  28   0\n",
      "  -8  -8   0   0  -2  12 -22   4   0  32  16  18 -10  24  14   2  12  -8\n",
      "  -4  38  16 -10 -18   0 -26   6   0   6 -10 -16  20  12 -12   4  12  20\n",
      "   4   2 -10   0 -14  10  -6  18  36 -10  -4   2   8 -16  -8 -14  -2  -2\n",
      " -36   0  20   6  -8   0 -14  -8   0   4  -6  -4  -8  -8   2   0  -2   6\n",
      "   8   0  -2 -12  38  -6 -32 -10  -6   2   8 -16 -16   2  42  -2  22  -8\n",
      "  12  14  -6  18  20  24   0   0  -6  10   0  14  -8  32   4   2 -10  -8\n",
      "   8  -2   4  -4   2   4  -6 -32   2  30 -22  20   4  -4  -2   4   0  -8\n",
      "  -6 -16 -14   4   2  -2  10 -12 -18  26 -14  12   4   2   8   0   8  18\n",
      " -22  -4  -6  -4 -10  -2   6 -12  12   4   6   8  14  -8 -28 -14  -8  10\n",
      "   8   0  -6  12  32  -4   0  10   8 -12 -22   4 -12   6   6  18  18  22\n",
      " -24  -2   8 -14  14  -8  12  20  16  -2  -8 -36 -12  16  10  14  -4   2\n",
      "  -4  -2   4 -10   6  10  -4 -24  28   0 -12  30 -16  12  34  10 -16 -14\n",
      "  12  10  -4  20   6 -10   6   8  10   0  32 -12   0 -24   2 -20 -22   4\n",
      " -10  16   8   0   4   6   8   0  -2  28 -18   8  20   0  16 -22  -6  -6\n",
      "   6  16  22   0  10  -2   2   4   0   4  -6 -18   0   6  12   8  -4  -4\n",
      "  10  16  -2  18   4  -8   2  -2   0  12  12 -16 -10  -4 -18 -10   8   6\n",
      "  -4  12   2  -2   0   0   4   2   0  14 -10  16  -4  -6  -6 -20   2  14\n",
      " -36  18  24  -8  20   2 -18   6   4 -16 -26 -18  22  14 -12  14   4   4\n",
      "  10 -18 -30   8  16  -2 -10 -10  30  26  -6  12   6  -6   0  -8  24  -8\n",
      "  20  10  -8  -2   6 -26 -20 -30   8 -14 -22 -32 -24   0  -4   0  -2 -28\n",
      " -20 -22  -8  -4  -6   4 -14   2  20  12   4   2 -10  18 -10   0 -18  -8\n",
      " -14   4   0  -8  -6  -2  12 -34 -10 -10  10  18  -4 -18  -2  -6  14  -6\n",
      "   0  -4   6 -10   8  16 -16  -8  10  -6   6  12  26 -10  -4  20 -14 -12\n",
      "  -6  -4 -16   2 -16  10 -18 -20  18  -8  -6  -4   2  14   4   2  -6 -22\n",
      "   4 -26 -14  12   2  10  10 -18  10   0 -12 -16   4   2  14 -22   8  -8\n",
      "  -8 -10 -26  16  16  10 -24   2  28  -4  18   0 -16  -4  14  -8  38 -44\n",
      " -22   4  26   8  -8  10   2  20   2  -2  -6   4  10  10 -18   6   8  12\n",
      "  10   0   4   6 -12 -10   8  14 -10  32 -16 -16 -22  -2  -8 -22  -8 -22\n",
      "  20  -2   0  16   6 -12 -22  14  -4   2   8  -4  20   2   0   6   6  18\n",
      "   2  14   0 -20   4  -2   0   2 -12  10   2 -20   6 -10   6 -12  10 -28\n",
      "  22  24   8 -20  14 -14 -10   0  20  10 -10   4  -6  16   8  12  10   0\n",
      "  20 -16  34  22   2   0  -6  24  10  -4 -16  -2  -8 -32  -8 -10 -10  20\n",
      "  36   6   6   4 -16  -4  10  -6 -18  12  -2   0   8  -2 -10  14 -10   6\n",
      "  -8  30  10  -8  30   8  16  -4  10 -24  26  18  -4 -20 -10 -18 -12 -14\n",
      "   2  24 -20  16  44  -4   8   4  12  10  30   0  10   2  -6   6 -16  -6\n",
      " -10  16  14 -22   2 -16  14  20   6  26  20  -2 -16   4  16 -10 -12   6\n",
      "  26  -2   2  12  30   4  -2 -20  -8 -12   4  20   4  10  32   6  10   8\n",
      "  -2  -6  18  32  26 -34 -36 -24  -4  16  10  20  20   4  12  -4  10 -10\n",
      " -12   4  -6   8  32  -4   2 -14   0  -6  -8   0 -14  18   6  -6  18 -16\n",
      " -26  12 -20   0 -20 -10 -14   8 -18  22]\n",
      "squared distance:  [   0  256  256    4  196 1600  196  400    4    4  196   36  576  196\n",
      " 2704    4   36  484  144  100    4  196  324   36   36   16  900   64\n",
      "    4  400    4   64  324  324  196  196   64   16  576  324  324   64\n",
      "   16    4   16  900   16  676   16   36   36  784  784   36  144    0\n",
      "   64  900   64 1024   36  484  144    4  324    4   16  784  144   36\n",
      "  256  144  256  400    4  196   16   16    0   64   16    4  256  324\n",
      "    4    4   64    4  484   64   16    0   36   64  784    4   64   36\n",
      "   36    4  196   36    0    0  100  196   16   64  676    4   36   36\n",
      "  400  400  144   36 1156  784  400   16   64  144   36    4  676  256\n",
      "  100  400  144  100   36  144  196   16  100    0  576  324   16    0\n",
      "    0  256    4   64  484   64  576  196    0   64    4  100   36  256\n",
      "  324   36  196  196  100  100  576  100  324   36  676   64   36   36\n",
      "   16   36   36    0   36   16  144  784  256  900   64  256  144  256\n",
      "  196   64  256  196    0  100    4  144   16   36    0  144  784   64\n",
      "   64    4   16   16  400   64   64   16   16   36  196   64  676   64\n",
      "  400   16   36  256  144  484  144   64  100  484   64  676   36  100\n",
      "  144   64  576   16  144   64  196  324   36  100    4  144   16    4\n",
      "  484  400  256  324   36  256  100  100   16   16  144    4  324    4\n",
      "  144  196   36  484  484  256   64   16  484  196    4  144    0   16\n",
      "  256  576  324    4  196  324  400   64   16  400   36   16   36    0\n",
      "  324  196  676   16   16   64  784    0   64   64    0    0    4  144\n",
      "  484   16    0 1024  256  324  100  576  196    4  144   64   16 1444\n",
      "  256  100  324    0  676   36    0   36  100  256  400  144  144   16\n",
      "  144  400   16    4  100    0  196  100   36  324 1296  100   16    4\n",
      "   64  256   64  196    4    4 1296    0  400   36   64    0  196   64\n",
      "    0   16   36   16   64   64    4    0    4   36   64    0    4  144\n",
      " 1444   36 1024  100   36    4   64  256  256    4 1764    4  484   64\n",
      "  144  196   36  324  400  576    0    0   36  100    0  196   64 1024\n",
      "   16    4  100   64   64    4   16   16    4   16   36 1024    4  900\n",
      "  484  400   16   16    4   16    0   64   36  256  196   16    4    4\n",
      "  100  144  324  676  196  144   16    4   64    0   64  324  484   16\n",
      "   36   16  100    4   36  144  144   16   36   64  196   64  784  196\n",
      "   64  100   64    0   36  144 1024   16    0  100   64  144  484   16\n",
      "  144   36   36  324  324  484  576    4   64  196  196   64  144  400\n",
      "  256    4   64 1296  144  256  100  196   16    4   16    4   16  100\n",
      "   36  100   16  576  784    0  144  900  256  144 1156  100  256  196\n",
      "  144  100   16  400   36  100   36   64  100    0 1024  144    0  576\n",
      "    4  400  484   16  100  256   64    0   16   36   64    0    4  784\n",
      "  324   64  400    0  256  484   36   36   36  256  484    0  100    4\n",
      "    4   16    0   16   36  324    0   36  144   64   16   16  100  256\n",
      "    4  324   16   64    4    4    0  144  144  256  100   16  324  100\n",
      "   64   36   16  144    4    4    0    0   16    4    0  196  100  256\n",
      "   16   36   36  400    4  196 1296  324  576   64  400    4  324   36\n",
      "   16  256  676  324  484  196  144  196   16   16  100  324  900   64\n",
      "  256    4  100  100  900  676   36  144   36   36    0   64  576   64\n",
      "  400  100   64    4   36  676  400  900   64  196  484 1024  576    0\n",
      "   16    0    4  784  400  484   64   16   36   16  196    4  400  144\n",
      "   16    4  100  324  100    0  324   64  196   16    0   64   36    4\n",
      "  144 1156  100  100  100  324   16  324    4   36  196   36    0   16\n",
      "   36  100   64  256  256   64  100   36   36  144  676  100   16  400\n",
      "  196  144   36   16  256    4  256  100  324  400  324   64   36   16\n",
      "    4  196   16    4   36  484   16  676  196  144    4  100  100  324\n",
      "  100    0  144  256   16    4  196  484   64   64   64  100  676  256\n",
      "  256  100  576    4  784   16  324    0  256   16  196   64 1444 1936\n",
      "  484   16  676   64   64  100    4  400    4    4   36   16  100  100\n",
      "  324   36   64  144  100    0   16   36  144  100   64  196  100 1024\n",
      "  256  256  484    4   64  484   64  484  400    4    0  256   36  144\n",
      "  484  196   16    4   64   16  400    4    0   36   36  324    4  196\n",
      "    0  400   16    4    0    4  144  100    4  400   36  100   36  144\n",
      "  100  784  484  576   64  400  196  196  100    0  400  100  100   16\n",
      "   36  256   64  144  100    0  400  256 1156  484    4    0   36  576\n",
      "  100   16  256    4   64 1024   64  100  100  400 1296   36   36   16\n",
      "  256   16  100   36  324  144    4    0   64    4  100  196  100   36\n",
      "   64  900  100   64  900   64  256   16  100  576  676  324   16  400\n",
      "  100  324  144  196    4  576  400  256 1936   16   64   16  144  100\n",
      "  900    0  100    4   36   36  256   36  100  256  196  484    4  256\n",
      "  196  400   36  676  400    4  256   16  256  100  144   36  676    4\n",
      "    4  144  900   16    4  400   64  144   16  400   16  100 1024   36\n",
      "  100   64    4   36  324 1024  676 1156 1296  576   16  256  100  400\n",
      "  400   16  144   16  100  100  144   16   36   64 1024   16    4  196\n",
      "    0   36   64    0  196  324   36   36  324  256  676  144  400    0\n",
      "  400  100  196   64  324  484]\n",
      "mean of squared dist for each step: \n",
      " [  1.      2.008   3.104   4.056   5.12    6.26    7.328   8.308   9.304\n",
      "  10.32   11.12   12.128  13.168  14.336  15.512  16.6    17.968  18.78\n",
      "  19.2    19.864  20.728  21.764  23.048  24.96   26.264  26.88   27.872\n",
      "  28.7    29.728  30.656  31.736  32.808  34.384  36.092  37.576  38.584\n",
      "  39.936  41.416  43.208  43.632  44.344  45.984  47.624  48.876  49.544\n",
      "  50.028  51.248  51.632  52.752  53.66   54.632  55.14   55.44   56.96\n",
      "  57.32   58.     58.816  59.632  60.     61.16   62.336  63.304  64.544\n",
      "  65.136  66.     66.464  67.848  68.836  70.064  71.704  72.6    73.036\n",
      "  73.08   74.644  75.048  76.36   77.272  77.66   78.216  78.772  80.24\n",
      "  81.02   80.888  82.524  83.     82.964  83.408  84.684  86.392  88.772\n",
      "  89.856  91.492  91.968  93.288  94.208  94.808  96.488  97.984  98.96\n",
      "  99.712  99.88  100.68  101.616 102.66  103.984 103.828 105.168 106.824\n",
      " 108.064 109.436 110.8   111.288 113.096 113.996 115.592 115.616 118.128\n",
      " 119.224 120.24  121.168 122.864 123.988 125.088 125.64  126.912 128.904\n",
      " 128.784 129.328 129.744 129.916 130.896 130.928 131.32  131.188 132.816\n",
      " 134.008 135.336 137.088 138.344 138.856 140.24  142.768 144.16  146.076\n",
      " 147.696 148.172 150.12  150.288 150.848 152.668 152.344 153.788 156.52\n",
      " 157.376 157.016 158.776 159.2   159.364 160.672 161.948 162.128 162.208\n",
      " 163.36  165.888 167.28  168.66  168.496 168.652 170.592 170.696 172.04\n",
      " 172.624 174.672 175.244 176.84  179.804 181.456 181.948 181.96  183.856\n",
      " 184.68  185.02  185.608 187.176 186.584 186.936 186.56  187.448 187.96\n",
      " 189.524 189.376 190.004 191.24  192.504 194.016 194.8   196.376 198.92\n",
      " 199.552 199.86 ]\n",
      "[[ -1   0  -1 ...   0   1   0]\n",
      " [ -1   0  -1 ... -16 -17 -16]\n",
      " [ -1   0   1 ...  18  17  16]\n",
      " ...\n",
      " [  1   0  -1 ...  10   9   8]\n",
      " [  1   0  -1 ... -16 -17 -18]\n",
      " [  1   2   3 ...  22  21  22]]\n"
     ]
    },
    {
     "data": {
      "image/png": "[encoded data removed]",
      "text/plain": [
       "<Figure size 432x288 with 1 Axes>"
      ]
     },
     "metadata": {
      "needs_background": "light"
     },
     "output_type": "display_data"
    }
   ],
   "source": [
    "import numpy as np\n",
    "import matplotlib.pyplot as plt\n",
    "\n",
    "x=np.arange(1000)\n",
    "y=np.arange(200)[:,np.newaxis]\n",
    "walk= np.random.randint(0,2,size=(len(x),len(y)))\n",
    "walk[walk == 0]=-1\n",
    "print('2D array walkers x steps:  \\n',walk)\n",
    "\n",
    "walking_dist=np.sum(walk,axis = 1)\n",
    "print('walking_dist: ',walking_dist)\n",
    "\n",
    "square_walking_dist=np.square(walking_dist)\n",
    "print('squared distance: ',square_walking_dist )\n",
    "\n",
    "\n",
    "dist_each_step = np.cumsum(walk,axis = 1)\n",
    "sq_dist_each_step = np.square(dist_each_step)\n",
    "mean_sq_dist = np.mean(sq_dist_each_step, axis = 0)\n",
    "print('mean of squared dist for each step: \\n',mean_sq_dist)\n",
    "\n",
    "plt.title(\"Average distance\")\n",
    "print(dist_each_step)\n",
    "plt.plot(np.arange(200), mean_sq_dist, color=\"red\")\n",
    "plt.show()"
   ]
  }
 ],
 "metadata": {
  "kernelspec": {
   "display_name": "Python 3 (ipykernel)",
   "language": "python",
   "name": "python3"
  },
  "language_info": {
   "codemirror_mode": {
    "name": "ipython",
    "version": 3
   },
   "file_extension": ".py",
   "mimetype": "text/x-python",
   "name": "python",
   "nbconvert_exporter": "python",
   "pygments_lexer": "ipython3",
   "version": "3.9.12"
  }
 },
 "nbformat": 4,
 "nbformat_minor": 2
}
