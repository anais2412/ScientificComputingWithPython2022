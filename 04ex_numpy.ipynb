{
 "cells": [
  {
   "cell_type": "markdown",
   "metadata": {},
   "source": [
    "1\\. **Reductions**\n",
    "\n",
    "Find the total mean, and the mean for each row and column of the following matrix:\n",
    "\n",
    "```python\n",
    "m = np.arange(12).reshape((3,4))\n",
    "```"
   ]
  },
  {
   "cell_type": "code",
   "execution_count": 2,
   "metadata": {},
   "outputs": [
    {
     "name": "stdout",
     "output_type": "stream",
     "text": [
      "total mean is:  5.5\n",
      "mean of the columns:  [4. 5. 6. 7.]\n",
      "mean of the lines:  [1.5 5.5 9.5]\n"
     ]
    }
   ],
   "source": [
    "## Anaïs FRAGNE\n",
    "\n",
    "import  numpy as np \n",
    "\n",
    "m = np.arange(12).reshape((3,4))\n",
    "print('total mean is: ',np.mean(m))\n",
    "print('mean of the columns: ',np.mean(m,axis=0))\n",
    "print('mean of the lines: ',np.mean(m,axis=1))"
   ]
  },
  {
   "cell_type": "markdown",
   "metadata": {},
   "source": [
    "2\\. **Outer product**\n",
    "\n",
    "Find the outer product of the following vectors:\n",
    "\n",
    "```python\n",
    "u = np.array([1, 3, 5, 7])\n",
    "v = np.array([2, 4, 6, 8])\n",
    "```\n",
    "\n",
    "Use different methods to do this:\n",
    "\n",
    "   1. Using the function `outer` in numpy\n",
    "   2. Using a nested `for` loop or a list comprehension\n",
    "   3. Using numpy broadcasting operations"
   ]
  },
  {
   "cell_type": "code",
   "execution_count": 5,
   "metadata": {},
   "outputs": [
    {
     "name": "stdout",
     "output_type": "stream",
     "text": [
      "[1 3 5 7]\n",
      "[2 4 6 8]\n",
      "Outer product:  [[ 2  4  6  8]\n",
      " [ 6 12 18 24]\n",
      " [10 20 30 40]\n",
      " [14 28 42 56]]\n"
     ]
    }
   ],
   "source": [
    "u = np.array([1, 3, 5, 7])\n",
    "v = np.array([2, 4, 6, 8])\n",
    "#1. Outer \n",
    "\n",
    "print(u)\n",
    "print(v)\n",
    "\n",
    "print('Outer product: ',np.outer(u,v))"
   ]
  },
  {
   "cell_type": "code",
   "execution_count": 9,
   "metadata": {},
   "outputs": [
    {
     "name": "stdout",
     "output_type": "stream",
     "text": [
      "[[2, 4, 6, 8], [6, 12, 18, 24], [10, 20, 30, 40], [14, 28, 42, 56]]\n"
     ]
    }
   ],
   "source": [
    "#2. For\n",
    "outer=[[u[i]*v[j] for j in range(len(v))] for i in range(len(u))]\n",
    "print('Outer product with for loop: ',outer)"
   ]
  },
  {
   "cell_type": "code",
   "execution_count": 25,
   "metadata": {},
   "outputs": [
    {
     "name": "stdout",
     "output_type": "stream",
     "text": [
      "Outer product with Numpy broadcasting:  [[ 2  4  6  8]\n",
      " [ 6 12 18 24]\n",
      " [10 20 30 40]\n",
      " [14 28 42 56]]\n"
     ]
    }
   ],
   "source": [
    "#3. Numpy Broadcast\n",
    "outer= u[:, np.newaxis]*v\n",
    "\n",
    "print('Outer product with Numpy broadcasting: ',outer)"
   ]
  },
  {
   "cell_type": "markdown",
   "metadata": {},
   "source": [
    "3\\. **Matrix masking**\n",
    "\n",
    "Create a 10 by 6 matrix of float random numbers, distributed between 0 and 3 according to a flat distribution.\n",
    "\n",
    "After creating the matrix, set all entries $< 0.3$ to zero using a mask."
   ]
  },
  {
   "cell_type": "code",
   "execution_count": 14,
   "metadata": {},
   "outputs": [
    {
     "name": "stdout",
     "output_type": "stream",
     "text": [
      "Matrix M:  [[1.22562376 1.15058809 2.50041348 1.37708033 0.29857664 0.89414454]\n",
      " [0.40248975 0.09475767 2.40872057 0.78270223 0.57497439 2.60484384]\n",
      " [1.28947201 1.91829497 0.45979935 1.41295871 0.66642312 2.64033525]\n",
      " [0.88996379 2.72608427 1.61736268 0.52017304 0.49261766 0.88716918]\n",
      " [2.97913036 1.50252986 2.52418975 0.45799245 2.45169627 2.61841142]\n",
      " [0.32993465 1.37581686 2.12620415 0.81350391 1.70242189 1.31437609]\n",
      " [2.60340394 2.51103381 2.495397   2.63150204 2.34418043 2.90046963]\n",
      " [1.62960591 1.44742947 1.69358918 1.55216349 0.55079971 0.04733891]\n",
      " [1.69337709 1.87255274 2.41600313 2.11917924 0.39062646 1.62536468]\n",
      " [0.32708063 1.27466288 2.50342231 0.28437515 0.92186991 0.32159664]]\n",
      "Matrix after the mask:  [[1.22562376 1.15058809 2.50041348 1.37708033 0.         0.89414454]\n",
      " [0.40248975 0.         2.40872057 0.78270223 0.57497439 2.60484384]\n",
      " [1.28947201 1.91829497 0.45979935 1.41295871 0.66642312 2.64033525]\n",
      " [0.88996379 2.72608427 1.61736268 0.52017304 0.49261766 0.88716918]\n",
      " [2.97913036 1.50252986 2.52418975 0.45799245 2.45169627 2.61841142]\n",
      " [0.32993465 1.37581686 2.12620415 0.81350391 1.70242189 1.31437609]\n",
      " [2.60340394 2.51103381 2.495397   2.63150204 2.34418043 2.90046963]\n",
      " [1.62960591 1.44742947 1.69358918 1.55216349 0.55079971 0.        ]\n",
      " [1.69337709 1.87255274 2.41600313 2.11917924 0.39062646 1.62536468]\n",
      " [0.32708063 1.27466288 2.50342231 0.         0.92186991 0.32159664]]\n"
     ]
    }
   ],
   "source": [
    "M=np.random.uniform(0, 3, size=(10,6))\n",
    "print('Matrix M: ',M)\n",
    "mask= (M<0.3)\n",
    "M[mask]=0\n",
    "print('Matrix after the mask: ',M)"
   ]
  },
  {
   "cell_type": "markdown",
   "metadata": {},
   "source": [
    "4\\. **Trigonometric functions**\n",
    "\n",
    "Use `np.linspace` to create an array of 100 numbers between $0$ and $2\\pi$ (inclusive).\n",
    "\n",
    "  * Extract every 10th element using the slice notation\n",
    "  * Reverse the array using the slice notation\n",
    "  * Extract elements where the absolute difference between the `sin` and `cos` functions evaluated for that element is $< 0.1$\n",
    "  * **Optional**: make a plot showing the sin and cos functions and indicate where they are close"
   ]
  },
  {
   "cell_type": "code",
   "execution_count": 79,
   "metadata": {},
   "outputs": [
    {
     "name": "stdout",
     "output_type": "stream",
     "text": [
      "arr:  [0.         0.06346652 0.12693304 0.19039955 0.25386607 0.31733259\n",
      " 0.38079911 0.44426563 0.50773215 0.57119866 0.63466518 0.6981317\n",
      " 0.76159822 0.82506474 0.88853126 0.95199777 1.01546429 1.07893081\n",
      " 1.14239733 1.20586385 1.26933037 1.33279688 1.3962634  1.45972992\n",
      " 1.52319644 1.58666296 1.65012947 1.71359599 1.77706251 1.84052903\n",
      " 1.90399555 1.96746207 2.03092858 2.0943951  2.15786162 2.22132814\n",
      " 2.28479466 2.34826118 2.41172769 2.47519421 2.53866073 2.60212725\n",
      " 2.66559377 2.72906028 2.7925268  2.85599332 2.91945984 2.98292636\n",
      " 3.04639288 3.10985939 3.17332591 3.23679243 3.30025895 3.36372547\n",
      " 3.42719199 3.4906585  3.55412502 3.61759154 3.68105806 3.74452458\n",
      " 3.8079911  3.87145761 3.93492413 3.99839065 4.06185717 4.12532369\n",
      " 4.1887902  4.25225672 4.31572324 4.37918976 4.44265628 4.5061228\n",
      " 4.56958931 4.63305583 4.69652235 4.75998887 4.82345539 4.88692191\n",
      " 4.95038842 5.01385494 5.07732146 5.14078798 5.2042545  5.26772102\n",
      " 5.33118753 5.39465405 5.45812057 5.52158709 5.58505361 5.64852012\n",
      " 5.71198664 5.77545316 5.83891968 5.9023862  5.96585272 6.02931923\n",
      " 6.09278575 6.15625227 6.21971879 6.28318531]\n",
      "Every 10th element of arr:  [0.         0.63466518 1.26933037 1.90399555 2.53866073 3.17332591\n",
      " 3.8079911  4.44265628 5.07732146 5.71198664]\n",
      "Reversed array:  [6.28318531 6.21971879 6.15625227 6.09278575 6.02931923 5.96585272\n",
      " 5.9023862  5.83891968 5.77545316 5.71198664 5.64852012 5.58505361\n",
      " 5.52158709 5.45812057 5.39465405 5.33118753 5.26772102 5.2042545\n",
      " 5.14078798 5.07732146 5.01385494 4.95038842 4.88692191 4.82345539\n",
      " 4.75998887 4.69652235 4.63305583 4.56958931 4.5061228  4.44265628\n",
      " 4.37918976 4.31572324 4.25225672 4.1887902  4.12532369 4.06185717\n",
      " 3.99839065 3.93492413 3.87145761 3.8079911  3.74452458 3.68105806\n",
      " 3.61759154 3.55412502 3.4906585  3.42719199 3.36372547 3.30025895\n",
      " 3.23679243 3.17332591 3.10985939 3.04639288 2.98292636 2.91945984\n",
      " 2.85599332 2.7925268  2.72906028 2.66559377 2.60212725 2.53866073\n",
      " 2.47519421 2.41172769 2.34826118 2.28479466 2.22132814 2.15786162\n",
      " 2.0943951  2.03092858 1.96746207 1.90399555 1.84052903 1.77706251\n",
      " 1.71359599 1.65012947 1.58666296 1.52319644 1.45972992 1.3962634\n",
      " 1.33279688 1.26933037 1.20586385 1.14239733 1.07893081 1.01546429\n",
      " 0.95199777 0.88853126 0.82506474 0.76159822 0.6981317  0.63466518\n",
      " 0.57119866 0.50773215 0.44426563 0.38079911 0.31733259 0.25386607\n",
      " 0.19039955 0.12693304 0.06346652 0.        ]\n",
      "filtered_array:  [0.76159822 0.82506474 3.87145761 3.93492413]\n"
     ]
    },
    {
     "data": {
      "image/png": "[encoded data removed]",
      "text/plain": [
       "<Figure size 432x288 with 1 Axes>"
      ]
     },
     "metadata": {
      "needs_background": "light"
     },
     "output_type": "display_data"
    }
   ],
   "source": [
    "arr=np.linspace(0,2*np.pi,100)\n",
    "print('arr: ',arr)\n",
    "arr2=arr[0:-1:10]\n",
    "print('Every 10th element of arr: ',arr2)\n",
    "arr_rev=arr[::-1]\n",
    "print('Reversed array: ',arr_rev)\n",
    "mask= ((abs(np.sin(arr)-np.cos(arr))<0.1))\n",
    "arr3=arr[mask]\n",
    "print('filtered_array: ',arr3)\n",
    "\n",
    "#Optional:\n",
    "\n",
    "import matplotlib.pyplot as plt\n",
    "y = np.sin(arr)\n",
    "z = np.cos(arr)\n",
    "\n",
    "plt.plot(arr,y,arr,z)\n",
    "plt.legend(['sin(x)', 'cos(x)']) \n",
    "\n",
    "\n",
    "plt.scatter(arr3[0],np.cos(arr3[0]),c='g',marker='+')\n",
    "plt.scatter(arr3[1],np.sin(arr3[1]),c='g',marker='+')\n",
    "plt.scatter(arr3[2],np.cos(arr3[2]),c='g',marker='+')\n",
    "plt.scatter(arr3[3],np.sin(arr3[3]),c='g',marker='+')\n",
    "plt.show()\n",
    "#In green, the crosses represent the points where the absolute difference between cos and sin is smaller than 0.1 according to the points of arr\n",
    "#That is to say the green crosses are where sin and cos are close"
   ]
  },
  {
   "cell_type": "markdown",
   "metadata": {},
   "source": [
    "5\\. **Matrices**\n",
    "\n",
    "Create a matrix that shows the 10 by 10 multiplication table.\n",
    "\n",
    " * Find the trace of the matrix\n",
    " * Extract the anti-diagonal matrix (this should be ```array([10, 18, 24, 28, 30, 30, 28, 24, 18, 10])```)\n",
    " * Extract the diagonal offset by 1 upwards (this should be ```array([ 2,  6, 12, 20, 30, 42, 56, 72, 90])```)"
   ]
  },
  {
   "cell_type": "code",
   "execution_count": 109,
   "metadata": {},
   "outputs": [
    {
     "name": "stdout",
     "output_type": "stream",
     "text": [
      "mult_tab:  [[1, 2, 3, 4, 5, 6, 7, 8, 9, 10], [2, 4, 6, 8, 10, 12, 14, 16, 18, 20], [3, 6, 9, 12, 15, 18, 21, 24, 27, 30], [4, 8, 12, 16, 20, 24, 28, 32, 36, 40], [5, 10, 15, 20, 25, 30, 35, 40, 45, 50], [6, 12, 18, 24, 30, 36, 42, 48, 54, 60], [7, 14, 21, 28, 35, 42, 49, 56, 63, 70], [8, 16, 24, 32, 40, 48, 56, 64, 72, 80], [9, 18, 27, 36, 45, 54, 63, 72, 81, 90], [10, 20, 30, 40, 50, 60, 70, 80, 90, 100]]\n",
      "The trace of the matrix is:  385\n",
      "The anti-diagonal matrix of my mult_tab is:  [10, 18, 24, 28, 30, 30, 28, 24, 18]\n",
      "diag_offset:  [2, 6, 12, 20, 30, 42, 56, 72, 90]\n"
     ]
    }
   ],
   "source": [
    "mult_tab=[[(i+1)*(j+1) for i in range(10)] for j in range(10)]\n",
    "print('mult_tab: ',mult_tab)\n",
    "trace_mat=[mult_tab[i][j] for i in range(10) for j in range(10) if i==j]\n",
    "trace=np.sum(trace_mat)\n",
    "print('The trace of the matrix is: ',trace)\n",
    "\n",
    "anti_diag=[mult_tab[i][j] for i in range(9,0,-1) for j in range(10) if j+1==10-i]\n",
    "print('The anti-diagonal matrix of my mult_tab is: ',anti_diag)\n",
    "\n",
    "diag_offset=[mult_tab[i][j] for i in range(10) for j in range(10) if j== i+1] \n",
    "print('diag_offset: ', diag_offset)"
   ]
  },
  {
   "cell_type": "markdown",
   "metadata": {},
   "source": [
    "6\\. **Broadcasting**\n",
    "\n",
    "Use broadcasting to create a grid of distances.\n",
    "\n",
    "Route 66 crosses the following cities in the US: Chicago, Springfield, Saint-Louis, Tulsa, Oklahoma City, Amarillo, Santa Fe, Albuquerque, Flagstaff, Los Angeles.\n",
    "\n",
    "The corresponding positions in miles are: 0, 198, 303, 736, 871, 1175, 1475, 1544, 1913, 2448\n",
    "\n",
    "  * Build a 2D grid of distances among each city along Route 66\n",
    "  * Convert the distances in km"
   ]
  },
  {
   "cell_type": "code",
   "execution_count": 128,
   "metadata": {},
   "outputs": [
    {
     "name": "stdout",
     "output_type": "stream",
     "text": [
      "distance_grid: \n",
      " [[0.         1.         2.         3.         4.        ]\n",
      " [1.         1.41421356 2.23606798 3.16227766 4.12310563]\n",
      " [2.         2.23606798 2.82842712 3.60555128 4.47213595]\n",
      " [3.         3.16227766 3.60555128 4.24264069 5.        ]\n",
      " [4.         4.12310563 4.47213595 5.         5.65685425]]\n",
      "distance_route66: \n",
      " [[   0  198  303  736  871 1175 1475 1544 1913 2448]\n",
      " [ 198    0  105  538  673  977 1277 1346 1715 2250]\n",
      " [ 303  105    0  433  568  872 1172 1241 1610 2145]\n",
      " [ 736  538  433    0  135  439  739  808 1177 1712]\n",
      " [ 871  673  568  135    0  304  604  673 1042 1577]\n",
      " [1175  977  872  439  304    0  300  369  738 1273]\n",
      " [1475 1277 1172  739  604  300    0   69  438  973]\n",
      " [1544 1346 1241  808  673  369   69    0  369  904]\n",
      " [1913 1715 1610 1177 1042  738  438  369    0  535]\n",
      " [2448 2250 2145 1712 1577 1273  973  904  535    0]]\n",
      "distance_route66 in km: \n",
      " [[   0.          318.65021058  487.63138286 1184.47755045 1401.73905766\n",
      "  1890.97978502 2373.78313439 2484.82790475 3078.67602447 3939.67533084]\n",
      " [ 318.65021058    0.          168.98117228  865.82733987 1083.08884708\n",
      "  1572.32957444 2055.13292381 2166.17769416 2760.02581389 3621.02512026]\n",
      " [ 487.63138286  168.98117228    0.          696.84616759  914.1076748\n",
      "  1403.34840216 1886.15175153 1997.19652188 2591.04464161 3452.04394798]\n",
      " [1184.47755045  865.82733987  696.84616759    0.          217.26150722\n",
      "   706.50223457 1189.30558394 1300.3503543  1894.19847402 2755.19778039]\n",
      " [1401.73905766 1083.08884708  914.1076748   217.26150722    0.\n",
      "   489.24072736  972.04407673 1083.08884708 1676.9369668  2537.93627318]\n",
      " [1890.97978502 1572.32957444 1403.34840216  706.50223457  489.24072736\n",
      "     0.          482.80334937  593.84811972 1187.69623944 2048.69554582]\n",
      " [2373.78313439 2055.13292381 1886.15175153 1189.30558394  972.04407673\n",
      "   482.80334937    0.          111.04477035  704.89289008 1565.89219645]\n",
      " [2484.82790475 2166.17769416 1997.19652188 1300.3503543  1083.08884708\n",
      "   593.84811972  111.04477035    0.          593.84811972 1454.84742609]\n",
      " [3078.67602447 2760.02581389 2591.04464161 1894.19847402 1676.9369668\n",
      "  1187.69623944  704.89289008  593.84811972    0.          860.99930637]\n",
      " [3939.67533084 3621.02512026 3452.04394798 2755.19778039 2537.93627318\n",
      "  2048.69554582 1565.89219645 1454.84742609  860.99930637    0.        ]]\n"
     ]
    }
   ],
   "source": [
    "#1.\n",
    "x=np.arange(5)\n",
    "y=np.arange(5)[:,np.newaxis]\n",
    "distance=np.sqrt(x**2 + y**2)\n",
    "print('distance_grid: \\n',distance)\n",
    "\n",
    "#2.\n",
    "x1=np.array([0, 198, 303, 736, 871, 1175, 1475, 1544, 1913, 2448])\n",
    "y1=x1[:,np.newaxis]\n",
    "distance2=np.abs(x1-y1)\n",
    "print('distance_route66: \\n',distance2)\n",
    "\n",
    "#3.\n",
    "#1 km= 0,621371 miles\n",
    "x2=x1/0.621371\n",
    "y2=x2[:,np.newaxis]\n",
    "distance3=np.abs(x2-y2)\n",
    "print('distance_route66 in km: \\n',distance3)"
   ]
  },
  {
   "cell_type": "raw",
   "metadata": {},
   "source": [
    "7\\. **Prime numbers sieve**\n",
    "\n",
    "Compute the prime numbers in the 0-N (start with N=99) range with a sieve (mask).\n",
    "\n",
    "  * Constract a shape (N,) boolean array, which is the mask\n",
    "  * Identify the multiples of each number starting from 2 and set accordingly the corresponding mask element\n",
    "  * Apply the mask to obtain an array of ordered prime numbers\n",
    "  * Check the performances (with `timeit`); how does it scale with N?\n",
    "  * Implement the optimization suggested in the [sieve of Eratosthenes](https://en.wikipedia.org/wiki/Sieve_of_Eratosthenes)"
   ]
  },
  {
   "cell_type": "code",
   "execution_count": 161,
   "metadata": {},
   "outputs": [
    {
     "name": "stdout",
     "output_type": "stream",
     "text": [
      "mask: \n",
      " [True, True, False, True, False, True, False, True, False, False, False, True, False, True, False, False, False, True, False, True, False, False, False, True, False, False, False, False, False, True, False, True, False, False, False, False, False, True, False, False, False, True, False, True, False, False, False, True, False, False, False, False, False, True, False, False, False, False, False, True, False, True, False, False, False, False, False, True, False, False, False, True, False, True, False, False, False, False, False, True, False, False, False, True, False, False, False, False, False, True, False, False, False, False, False, False, False, True, False, True]\n",
      "prime_numbers: \n",
      " [ 3  5  7 11 13 17 19 23 29 31 37 41 43 47 53 59 61 67 71 73 79 83 89 97\n",
      " 99]\n",
      "time of the function:  0.00013008299720240757\n",
      "mask optimized: \n",
      " [True, True, False, True, False, True, False, True, False, False, False, True, False, True, False, False, False, True, False, True, False, False, False, True, False, False, False, False, False, True, False, True, False, False, False, False, False, True, False, False, False, True, False, True, False, False, False, True, False, False, False, False, False, True, False, False, False, False, False, True, False, True, False, False, False, False, False, True, False, False, False, True, False, True, False, False, False, False, False, True, False, False, False, True, False, False, False, False, False, True, False, False, False, False, False, False, False, True, False, True]\n",
      "Are the two masks the same objects ?:  True\n",
      "prime_numbers with Sieve of Eratosthenes: \n",
      " [ 3  5  7 11 13 17 19 23 29 31 37 41 43 47 53 59 61 67 71 73 79 83 89 97\n",
      " 99]\n",
      "time of the function:  1.0994001058861613e-05\n"
     ]
    }
   ],
   "source": [
    "import timeit\n",
    "N=99\n",
    "mask= [True]*(N+1)\n",
    "numbers=np.arange(N+1)\n",
    "\n",
    "\n",
    "def isPrime(mask,N):\n",
    "    for i in range(2,N):\n",
    "        if  i % 2 == 0:\n",
    "            mask[i]=False\n",
    "        for x in range(2,i//2):\n",
    "            if i%x==0:\n",
    "                mask[i]=False\n",
    "    return mask\n",
    "\n",
    "print('mask: \\n',isPrime(mask,N))\n",
    "prime_numbers=numbers[isPrime(mask,N)] \n",
    "prime_numbers=prime_numbers[2:]\n",
    "print('prime_numbers: \\n',prime_numbers)\n",
    "print('time of the function: ',timeit.timeit('isPrime(mask,N)',globals=globals(), number=1))\n",
    "\n",
    "def isPrime_opti(mask,N):\n",
    "    l=int(np.sqrt(N))\n",
    "    for i in range(2,l+1):\n",
    "        if mask[i]:\n",
    "            for j in range(i**2,N,i):\n",
    "                mask[j]=False\n",
    "    return mask\n",
    "\n",
    "print('mask optimized: \\n',isPrime_opti(mask,N))\n",
    "print('Are the two masks the same objects ?: ',isPrime(mask,N) == isPrime_opti(mask,N))\n",
    "prime_numbers=numbers[isPrime_opti(mask,N)] \n",
    "prime_numbers=prime_numbers[2:]\n",
    "print('prime_numbers with Sieve of Eratosthenes: \\n',prime_numbers)\n",
    "print('time of the function: ',timeit.timeit('isPrime_opti(mask,N)',globals=globals(), number=1))\n",
    "\n",
    "#The optimized function using the Sieve_of_Eratosthenes is faster"
   ]
  },
  {
   "cell_type": "markdown",
   "metadata": {},
   "source": [
    "8\\. **Diffusion using random walk**\n",
    "\n",
    "Consider a simple random walk process: at each step in time, a walker jumps right or left (+1 or -1) with equal probability. The goal is to find the typical distance from the origin of many random walkers after a given amount of time.\n",
    "\n",
    "*Hint*: create a 2D array where each row represents a walker, and each column represents a time step.\n",
    "\n",
    "  * Take 1000 walkers and let them walk for 200 steps\n",
    "  * Use `randint` to create a 2D array of size $walkers \\times steps$ with values -1 or 1\n",
    "  * Calculate the walking distances for each walker (e.g. by summing the elements in each row)\n",
    "  * Take the square of the previously-obtained array (element-wise)\n",
    "  * Compute the mean of the squared distances at each step (i.e. the mean along the columns)\n",
    "  * **Optional**: plot the average distances ($\\sqrt(distance^2)$) as a function of time (step)"
   ]
  },
  {
   "cell_type": "code",
   "execution_count": 182,
   "metadata": {},
   "outputs": [
    {
     "name": "stdout",
     "output_type": "stream",
     "text": [
      "[[ 1  1  1 ...  1 -1 -1]\n",
      " [-1 -1  1 ... -1  1 -1]\n",
      " [ 1 -1 -1 ... -1 -1  1]\n",
      " ...\n",
      " [-1 -1  1 ... -1  1 -1]\n",
      " [-1  1  1 ... -1  1  1]\n",
      " [ 1 -1  1 ...  1  1 -1]]\n",
      "walking_dist:  [2, 12, 2, 22, 14, 30, 24, 2, 8, 22, 26, 18, 18, 44, 66, 80, 84, 96, 98, 106, 108, 114, 126, 114, 106, 124, 110, 88, 90, 98, 106, 98, 100, 104, 88, 108, 90, 78, 48, 54, 64, 66, 82, 96, 88, 96, 78, 60, 68, 84, 82, 108, 96, 80, 84, 80, 84, 90, 98, 88, 112, 120, 134, 120, 136, 118, 128, 144, 162, 160, 172, 182, 164, 182, 176, 184, 176, 176, 176, 172, 194, 186, 192, 196, 206, 214, 224, 220, 222, 236, 254, 256, 254, 250, 234, 260, 272, 278, 272, 288, 286, 284, 274, 266, 268, 260, 230, 230, 224, 240, 248, 284, 296, 302, 310, 302, 318, 328, 326, 294, 286, 282, 268, 264, 282, 276, 284, 266, 260, 274, 290, 274, 282, 260, 242, 258, 266, 250, 260, 268, 256, 254, 246, 218, 232, 226, 226, 226, 206, 216, 220, 230, 214, 186, 192, 206, 196, 188, 170, 146, 138, 118, 100, 106, 94, 90, 56, 52, 44, 36, 34, 52, 48, 38, 30, 44, 30, 32, 54, 64, 68, 74, 56, 60, 62, 62, 56, 62, 62, 62, 70, 68, 70, 64, 72, 58, 52, 78, 84, 92, 96, 100, 80, 96, 124, 120, 134, 150, 158, 156, 178, 162, 156, 168, 176, 162, 166, 158, 184, 194, 184, 194, 188, 222, 220, 206, 186, 202, 208, 220, 234, 244, 234, 240, 242, 230, 230, 216, 216, 224, 220, 200, 196, 190, 196, 204, 204, 192, 208, 228, 228, 266, 280, 292, 272, 278, 258, 270, 276, 330, 346, 346, 342, 352, 342, 340, 342, 338, 326, 308, 330, 334, 346, 320, 308, 316, 328, 320, 300, 290, 316, 294, 306, 296, 314, 312, 296, 292, 288, 290, 284, 274, 274, 248, 244, 266, 272, 270, 254, 258, 280, 276, 288, 262, 256, 236, 234, 252, 262, 258, 256, 240, 246, 222, 226, 238, 220, 232, 232, 226, 216, 220, 224, 230, 204, 214, 218, 210, 216, 214, 232, 196, 194, 194, 208, 176, 176, 164, 166, 150, 150, 124, 100, 108, 112, 86, 92, 78, 76, 84, 110, 142, 158, 126, 104, 110, 84, 82, 84, 80, 86, 84, 94, 84, 84, 74, 74, 56, 66, 50, 62, 64, 46, 26, 10, 6, 12, 18, 36, 48, 44, 50, 36, 28, 8, -2, -8, -14, -14, -6, -18, -2, -10, -16, -28, -28, -26, -28, -32, -14, -32, -8, -14, -6, 2, 10, -4, 6, 30, 22, 42, 18, 24, 2, -6, 4, 22, 34, 24, 10, 16, 48, 46, 40, 74, 70, 52, 86, 88, 68, 68, 38, 26, 24, 8, 2, -22, -32, -46, -20, -28, -10, -26, -28, -26, -16, 10, -12, -12, 22, 34, 28, 20, 8, 12, 12, 2, -30, -48, -52, -60, -82, -90, -92, -122, -136, -130, -132, -124, -138, -166, -176, -178, -176, -194, -196, -168, -158, -160, -148, -124, -124, -114, -116, -136, -132, -116, -102, -86, -82, -86, -102, -98, -86, -98, -98, -84, -88, -68, -40, -40, -48, -46, -58, -62, -54, -84, -86, -98, -104, -108, -114, -104, -120, -128, -136, -130, -148, -144, -130, -128, -130, -138, -118, -130, -116, -112, -130, -108, -116, -116, -136, -154, -138, -126, -122, -124, -112, -94, -96, -80, -72, -82, -96, -98, -70, -64, -42, -46, -48, -52, -66, -80, -118, -120, -142, -134, -132, -130, -132, -132, -164, -160, -148, -148, -150, -154, -166, -130, -110, -108, -110, -98, -78, -84, -94, -78, -72, -60, -52, -46, -60, -80, -66, -74, -58, -54, -72, -76, -84, -66, -70, -64, -72, -84, -92, -80, -72, -64, -66, -64, -58, -54, -60, -74, -70, -66, -60, -56, -48, -30, -50, -60, -70, -94, -96, -88, -72, -92, -84, -76, -92, -94, -76, -100, -102, -94, -92, -68, -86, -90, -78, -84, -80, -74, -86, -92, -86, -94, -90, -110, -92, -88, -98, -106, -106, -104, -108, -126, -106, -114, -116, -138, -114, -110, -120, -126, -122, -128, -132, -130, -128, -138, -136, -114, -114, -106, -106, -98, -84, -96, -90, -82, -86, -106, -90, -96, -96, -100, -78, -86, -88, -100, -106, -106, -110, -110, -110, -116, -126, -90, -114, -112, -104, -118, -114, -106, -122, -132, -116, -90, -102, -90, -86, -76, -80, -68, -68, -84, -80, -60, -50, -64, -64, -74, -60, -82, -108, -90, -66, -68, -72, -52, -46, -48, -46, -74, -78, -76, -90, -88, -106, -114, -112, -150, -148, -142, -154, -170, -152, -154, -142, -138, -126, -118, -124, -110, -96, -112, -124, -134, -136, -122, -138, -146, -120, -146, -152, -170, -184, -170, -194, -206, -190, -206, -180, -168, -182, -174, -186, -178, -194, -192, -182, -178, -162, -168, -166, -148, -152, -154, -144, -128, -162, -172, -192, -188, -212, -212, -202, -194, -168, -168, -206, -206, -186, -178, -186, -204, -210, -208, -182, -198, -214, -196, -176, -184, -176, -166, -150, -156, -140, -138, -132, -112, -104, -80, -76, -76, -92, -90, -84, -82, -102, -94, -92, -92, -90, -76, -90, -96, -104, -94, -100, -60, -66, -70, -92, -102, -82, -82, -76, -74, -82, -84, -84, -94, -88, -66, -50, -50, -44, -30, -46, -48, -58, -74, -80, -96, -112, -120, -110, -120, -102, -94, -90, -108, -114, -98, -118, -124, -146, -158, -140, -148, -168, -172, -166, -188, -204, -250, -246, -256, -246, -228, -244, -244, -244, -258, -256, -280, -288, -294, -294, -302, -282, -274, -276, -264, -262, -258, -274, -262, -264, -250, -266, -254, -258, -266, -286, -314, -330, -340, -344, -368, -382, -380, -364, -360, -368, -372, -376, -372, -364, -358, -372, -390, -416, -402, -382, -380, -358, -358, -328, -330, -340, -346, -360, -356, -336, -360, -356, -338, -348, -368, -366, -362, -378, -368, -388, -396, -404, -400, -404, -382, -384, -404, -408, -402, -400, -410, -418, -406, -422, -414, -408, -392, -392, -390, -392, -414, -404, -388, -396, -392, -406, -412, -398, -402, -378, -390, -376, -382, -364, -334, -332, -330, -334, -330, -318, -322, -318, -318, -310, -304, -314, -328, -332, -308, -302]\n"
     ]
    }
   ],
   "source": [
    "x=np.arange(1000)\n",
    "y=np.arange(200)[:,np.newaxis]\n",
    "walk= np.random.randint(0,2,size=(len(x),len(y)))\n",
    "walk[walk == 0]=-1\n",
    "print(walk)\n",
    "walking_dist=[]\n",
    "s=0\n",
    "for l in walk:\n",
    "    for j in range(len(l)):\n",
    "        s+=l[j]\n",
    "    walking_dist.append(s)\n",
    "print('walking_dist: ',walking_dist)\n",
    "square_walking_dist=np.square(walking_dist)\n"
   ]
  }
 ],
 "metadata": {
  "kernelspec": {
   "display_name": "Python 3 (ipykernel)",
   "language": "python",
   "name": "python3"
  },
  "language_info": {
   "codemirror_mode": {
    "name": "ipython",
    "version": 3
   },
   "file_extension": ".py",
   "mimetype": "text/x-python",
   "name": "python",
   "nbconvert_exporter": "python",
   "pygments_lexer": "ipython3",
   "version": "3.9.12"
  }
 },
 "nbformat": 4,
 "nbformat_minor": 2
}
