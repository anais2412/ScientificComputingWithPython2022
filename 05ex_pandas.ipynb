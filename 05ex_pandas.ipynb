{
 "cells": [
  {
   "cell_type": "markdown",
   "metadata": {},
   "source": [
    "1\\. **Pandas DataFrame**\n",
    "\n",
    "This exercise consists in analyzing a dataset containg timing information from a series of Time-to-Digital-Converters (TDC) implemented in a pair of FPGAs. Each measurement (i.e. each row of the input file) consists of a flag that specifies the type of message ('HEAD', which in this case is always 1), two addresses of the TDC providing the signal ('FPGA' and 'TDC_CHANNEL'), and the timing information ('ORBIT_CNT', 'BX_COUNTER', and 'TDC_MEAS'). Each TDC count corresponds to 25/30 ns, whereas a unit of BX_COUNTER corresponds to 25 ns, and the ORBIT_CNT is increased every `x` BX_COUNTER. This allows to store the time in a similar way to hours, minutes and seconds."
   ]
  },
  {
   "cell_type": "code",
   "execution_count": 72,
   "metadata": {},
   "outputs": [
    {
     "name": "stdout",
     "output_type": "stream",
     "text": [
      "--2022-11-21 19:47:41--  https://www.dropbox.com/s/xvjzaxzz3ysphme/data_000637.txt\n",
      "Resolving www.dropbox.com (www.dropbox.com)... 162.125.69.18\n",
      "Connecting to www.dropbox.com (www.dropbox.com)|162.125.69.18|:443... connected.\n",
      "HTTP request sent, awaiting response... 302 Found\n",
      "Location: /s/raw/xvjzaxzz3ysphme/data_000637.txt [following]\n",
      "--2022-11-21 19:47:41--  https://www.dropbox.com/s/raw/xvjzaxzz3ysphme/data_000637.txt\n",
      "Reusing existing connection to www.dropbox.com:443.\n",
      "HTTP request sent, awaiting response... 302 Found\n",
      "Location: https://uc8ea803f131b2b9901a9e1da568.dl.dropboxusercontent.com/cd/0/inline/BxMAtYyMkllO8LUeQl47nAKIbNzp40-jEXbtVdwz0TLft8IAJnBbDQYNlNTIOejXfpxkKpp-8OO9I0q3_yptV64bxkkj3xz9RAKYqB1vp86jhATxGwinn8TIS9P-J0Yx2HzOA-yKFlydIbL0NPaDdy4I2gNeGSjuvdUm8Bbb9iXexg/file# [following]\n",
      "--2022-11-21 19:47:42--  https://uc8ea803f131b2b9901a9e1da568.dl.dropboxusercontent.com/cd/0/inline/BxMAtYyMkllO8LUeQl47nAKIbNzp40-jEXbtVdwz0TLft8IAJnBbDQYNlNTIOejXfpxkKpp-8OO9I0q3_yptV64bxkkj3xz9RAKYqB1vp86jhATxGwinn8TIS9P-J0Yx2HzOA-yKFlydIbL0NPaDdy4I2gNeGSjuvdUm8Bbb9iXexg/file\n",
      "Resolving uc8ea803f131b2b9901a9e1da568.dl.dropboxusercontent.com (uc8ea803f131b2b9901a9e1da568.dl.dropboxusercontent.com)... 162.125.69.15\n",
      "Connecting to uc8ea803f131b2b9901a9e1da568.dl.dropboxusercontent.com (uc8ea803f131b2b9901a9e1da568.dl.dropboxusercontent.com)|162.125.69.15|:443... connected.\n",
      "HTTP request sent, awaiting response... 200 OK\n",
      "Length: 33179236 (32M) [text/plain]\n",
      "Saving to: './data/data_000637.txt.1'\n",
      "\n",
      "data_000637.txt.1   100%[===================>]  31.64M  17.6MB/s    in 1.8s    \n",
      "\n",
      "2022-11-21 19:47:44 (17.6 MB/s) - './data/data_000637.txt.1' saved [33179236/33179236]\n",
      "\n"
     ]
    }
   ],
   "source": [
    "# If haven't downloaded it yet, please get the data file with wget\n",
    "!wget https://www.dropbox.com/s/xvjzaxzz3ysphme/data_000637.txt -P ./data/"
   ]
  },
  {
   "cell_type": "markdown",
   "metadata": {},
   "source": [
    "1\\. Create a Pandas DataFrame reading N rows of the `data/data_000637.txt` dataset. Choose N to be smaller than or equal to the maximum number of rows and larger that 10k (check the documentation)."
   ]
  },
  {
   "cell_type": "code",
   "execution_count": 11,
   "metadata": {},
   "outputs": [
    {
     "name": "stdout",
     "output_type": "stream",
     "text": [
      "(1310720, 6)\n"
     ]
    },
    {
     "data": {
      "text/html": [
       "<div>\n",
       "<style scoped>\n",
       "    .dataframe tbody tr th:only-of-type {\n",
       "        vertical-align: middle;\n",
       "    }\n",
       "\n",
       "    .dataframe tbody tr th {\n",
       "        vertical-align: top;\n",
       "    }\n",
       "\n",
       "    .dataframe thead th {\n",
       "        text-align: right;\n",
       "    }\n",
       "</style>\n",
       "<table border=\"1\" class=\"dataframe\">\n",
       "  <thead>\n",
       "    <tr style=\"text-align: right;\">\n",
       "      <th></th>\n",
       "      <th>HEAD</th>\n",
       "      <th>FPGA</th>\n",
       "      <th>TDC_CHANNEL</th>\n",
       "      <th>ORBIT_CNT</th>\n",
       "      <th>BX_COUNTER</th>\n",
       "      <th>TDC_MEAS</th>\n",
       "    </tr>\n",
       "  </thead>\n",
       "  <tbody>\n",
       "    <tr>\n",
       "      <th>0</th>\n",
       "      <td>1</td>\n",
       "      <td>0</td>\n",
       "      <td>123</td>\n",
       "      <td>3869200167</td>\n",
       "      <td>2374</td>\n",
       "      <td>26</td>\n",
       "    </tr>\n",
       "    <tr>\n",
       "      <th>1</th>\n",
       "      <td>1</td>\n",
       "      <td>0</td>\n",
       "      <td>124</td>\n",
       "      <td>3869200167</td>\n",
       "      <td>2374</td>\n",
       "      <td>27</td>\n",
       "    </tr>\n",
       "    <tr>\n",
       "      <th>2</th>\n",
       "      <td>1</td>\n",
       "      <td>0</td>\n",
       "      <td>63</td>\n",
       "      <td>3869200167</td>\n",
       "      <td>2553</td>\n",
       "      <td>28</td>\n",
       "    </tr>\n",
       "    <tr>\n",
       "      <th>3</th>\n",
       "      <td>1</td>\n",
       "      <td>0</td>\n",
       "      <td>64</td>\n",
       "      <td>3869200167</td>\n",
       "      <td>2558</td>\n",
       "      <td>19</td>\n",
       "    </tr>\n",
       "    <tr>\n",
       "      <th>4</th>\n",
       "      <td>1</td>\n",
       "      <td>0</td>\n",
       "      <td>64</td>\n",
       "      <td>3869200167</td>\n",
       "      <td>2760</td>\n",
       "      <td>25</td>\n",
       "    </tr>\n",
       "    <tr>\n",
       "      <th>...</th>\n",
       "      <td>...</td>\n",
       "      <td>...</td>\n",
       "      <td>...</td>\n",
       "      <td>...</td>\n",
       "      <td>...</td>\n",
       "      <td>...</td>\n",
       "    </tr>\n",
       "    <tr>\n",
       "      <th>694725</th>\n",
       "      <td>1</td>\n",
       "      <td>0</td>\n",
       "      <td>123</td>\n",
       "      <td>3869206944</td>\n",
       "      <td>1201</td>\n",
       "      <td>12</td>\n",
       "    </tr>\n",
       "    <tr>\n",
       "      <th>694726</th>\n",
       "      <td>1</td>\n",
       "      <td>0</td>\n",
       "      <td>53</td>\n",
       "      <td>3869206944</td>\n",
       "      <td>1199</td>\n",
       "      <td>9</td>\n",
       "    </tr>\n",
       "    <tr>\n",
       "      <th>694727</th>\n",
       "      <td>1</td>\n",
       "      <td>0</td>\n",
       "      <td>139</td>\n",
       "      <td>3869206944</td>\n",
       "      <td>1201</td>\n",
       "      <td>0</td>\n",
       "    </tr>\n",
       "    <tr>\n",
       "      <th>694728</th>\n",
       "      <td>1</td>\n",
       "      <td>0</td>\n",
       "      <td>56</td>\n",
       "      <td>3869206944</td>\n",
       "      <td>1200</td>\n",
       "      <td>16</td>\n",
       "    </tr>\n",
       "    <tr>\n",
       "      <th>694729</th>\n",
       "      <td>1</td>\n",
       "      <td>1</td>\n",
       "      <td>4</td>\n",
       "      <td>3869206944</td>\n",
       "      <td>1205</td>\n",
       "      <td>4</td>\n",
       "    </tr>\n",
       "  </tbody>\n",
       "</table>\n",
       "<p>694730 rows × 6 columns</p>\n",
       "</div>"
      ],
      "text/plain": [
       "        HEAD  FPGA  TDC_CHANNEL   ORBIT_CNT  BX_COUNTER  TDC_MEAS\n",
       "0          1     0          123  3869200167        2374        26\n",
       "1          1     0          124  3869200167        2374        27\n",
       "2          1     0           63  3869200167        2553        28\n",
       "3          1     0           64  3869200167        2558        19\n",
       "4          1     0           64  3869200167        2760        25\n",
       "...      ...   ...          ...         ...         ...       ...\n",
       "694725     1     0          123  3869206944        1201        12\n",
       "694726     1     0           53  3869206944        1199         9\n",
       "694727     1     0          139  3869206944        1201         0\n",
       "694728     1     0           56  3869206944        1200        16\n",
       "694729     1     1            4  3869206944        1205         4\n",
       "\n",
       "[694730 rows x 6 columns]"
      ]
     },
     "execution_count": 11,
     "metadata": {},
     "output_type": "execute_result"
    }
   ],
   "source": [
    "import pandas as pd # standard naming convention\n",
    "import numpy as np\n",
    "import matplotlib.pyplot as plt\n",
    "file_name = \"./data/data_000637.txt\"\n",
    "data = pd.read_csv(file_name)\n",
    "data\n",
    "print(data.shape)\n",
    "N=np.random.randint(10000,data.shape[0])\n",
    "#N= data.shape[0]\n",
    "df=pd.DataFrame(data[:N])\n",
    "df"
   ]
  },
  {
   "cell_type": "markdown",
   "metadata": {},
   "source": [
    "2\\. Estimate the number of BX in a ORBIT (the value `x`).\n",
    "\n",
    "*Hint*: check when the BX counter reaches the maximum value before being reset to 0."
   ]
  },
  {
   "cell_type": "code",
   "execution_count": 12,
   "metadata": {},
   "outputs": [
    {
     "name": "stdout",
     "output_type": "stream",
     "text": [
      "The number of BX in a ORBIT is : \n",
      " 3563\n"
     ]
    }
   ],
   "source": [
    "x = df.groupby(\"ORBIT_CNT\")[\"BX_COUNTER\"].max()\n",
    "print('The number of BX in a ORBIT is : \\n',x.max())\n"
   ]
  },
  {
   "cell_type": "markdown",
   "metadata": {},
   "source": [
    "3\\. Create a new column with the absolute time in ns (as a combination of the other three columns with timing information) since the beginning of the data acquisition, and convert the new column to a Time Series."
   ]
  },
  {
   "cell_type": "code",
   "execution_count": 13,
   "metadata": {},
   "outputs": [
    {
     "data": {
      "text/html": [
       "<div>\n",
       "<style scoped>\n",
       "    .dataframe tbody tr th:only-of-type {\n",
       "        vertical-align: middle;\n",
       "    }\n",
       "\n",
       "    .dataframe tbody tr th {\n",
       "        vertical-align: top;\n",
       "    }\n",
       "\n",
       "    .dataframe thead th {\n",
       "        text-align: right;\n",
       "    }\n",
       "</style>\n",
       "<table border=\"1\" class=\"dataframe\">\n",
       "  <thead>\n",
       "    <tr style=\"text-align: right;\">\n",
       "      <th></th>\n",
       "      <th>HEAD</th>\n",
       "      <th>FPGA</th>\n",
       "      <th>TDC_CHANNEL</th>\n",
       "      <th>ORBIT_CNT</th>\n",
       "      <th>BX_COUNTER</th>\n",
       "      <th>TDC_MEAS</th>\n",
       "      <th>Absolute Time</th>\n",
       "    </tr>\n",
       "  </thead>\n",
       "  <tbody>\n",
       "    <tr>\n",
       "      <th>0</th>\n",
       "      <td>1</td>\n",
       "      <td>0</td>\n",
       "      <td>123</td>\n",
       "      <td>3869200167</td>\n",
       "      <td>2374</td>\n",
       "      <td>26</td>\n",
       "      <td>0 days 00:00:00</td>\n",
       "    </tr>\n",
       "    <tr>\n",
       "      <th>1</th>\n",
       "      <td>1</td>\n",
       "      <td>0</td>\n",
       "      <td>124</td>\n",
       "      <td>3869200167</td>\n",
       "      <td>2374</td>\n",
       "      <td>27</td>\n",
       "      <td>0 days 00:00:00</td>\n",
       "    </tr>\n",
       "    <tr>\n",
       "      <th>2</th>\n",
       "      <td>1</td>\n",
       "      <td>0</td>\n",
       "      <td>63</td>\n",
       "      <td>3869200167</td>\n",
       "      <td>2553</td>\n",
       "      <td>28</td>\n",
       "      <td>0 days 00:00:00.000004477</td>\n",
       "    </tr>\n",
       "    <tr>\n",
       "      <th>3</th>\n",
       "      <td>1</td>\n",
       "      <td>0</td>\n",
       "      <td>64</td>\n",
       "      <td>3869200167</td>\n",
       "      <td>2558</td>\n",
       "      <td>19</td>\n",
       "      <td>0 days 00:00:00.000009071</td>\n",
       "    </tr>\n",
       "    <tr>\n",
       "      <th>4</th>\n",
       "      <td>1</td>\n",
       "      <td>0</td>\n",
       "      <td>64</td>\n",
       "      <td>3869200167</td>\n",
       "      <td>2760</td>\n",
       "      <td>25</td>\n",
       "      <td>0 days 00:00:00.000018720</td>\n",
       "    </tr>\n",
       "    <tr>\n",
       "      <th>...</th>\n",
       "      <td>...</td>\n",
       "      <td>...</td>\n",
       "      <td>...</td>\n",
       "      <td>...</td>\n",
       "      <td>...</td>\n",
       "      <td>...</td>\n",
       "      <td>...</td>\n",
       "    </tr>\n",
       "    <tr>\n",
       "      <th>694725</th>\n",
       "      <td>1</td>\n",
       "      <td>0</td>\n",
       "      <td>123</td>\n",
       "      <td>3869206944</td>\n",
       "      <td>1201</td>\n",
       "      <td>12</td>\n",
       "      <td>2 days 11:52:59.010715530</td>\n",
       "    </tr>\n",
       "    <tr>\n",
       "      <th>694726</th>\n",
       "      <td>1</td>\n",
       "      <td>0</td>\n",
       "      <td>53</td>\n",
       "      <td>3869206944</td>\n",
       "      <td>1199</td>\n",
       "      <td>9</td>\n",
       "      <td>2 days 11:52:59.614347416</td>\n",
       "    </tr>\n",
       "    <tr>\n",
       "      <th>694727</th>\n",
       "      <td>1</td>\n",
       "      <td>0</td>\n",
       "      <td>139</td>\n",
       "      <td>3869206944</td>\n",
       "      <td>1201</td>\n",
       "      <td>0</td>\n",
       "      <td>2 days 11:53:00.217979345</td>\n",
       "    </tr>\n",
       "    <tr>\n",
       "      <th>694728</th>\n",
       "      <td>1</td>\n",
       "      <td>0</td>\n",
       "      <td>56</td>\n",
       "      <td>3869206944</td>\n",
       "      <td>1200</td>\n",
       "      <td>16</td>\n",
       "      <td>2 days 11:53:00.821611261</td>\n",
       "    </tr>\n",
       "    <tr>\n",
       "      <th>694729</th>\n",
       "      <td>1</td>\n",
       "      <td>1</td>\n",
       "      <td>4</td>\n",
       "      <td>3869206944</td>\n",
       "      <td>1205</td>\n",
       "      <td>4</td>\n",
       "      <td>2 days 11:53:01.425243293</td>\n",
       "    </tr>\n",
       "  </tbody>\n",
       "</table>\n",
       "<p>694730 rows × 7 columns</p>\n",
       "</div>"
      ],
      "text/plain": [
       "        HEAD  FPGA  TDC_CHANNEL   ORBIT_CNT  BX_COUNTER  TDC_MEAS  \\\n",
       "0          1     0          123  3869200167        2374        26   \n",
       "1          1     0          124  3869200167        2374        27   \n",
       "2          1     0           63  3869200167        2553        28   \n",
       "3          1     0           64  3869200167        2558        19   \n",
       "4          1     0           64  3869200167        2760        25   \n",
       "...      ...   ...          ...         ...         ...       ...   \n",
       "694725     1     0          123  3869206944        1201        12   \n",
       "694726     1     0           53  3869206944        1199         9   \n",
       "694727     1     0          139  3869206944        1201         0   \n",
       "694728     1     0           56  3869206944        1200        16   \n",
       "694729     1     1            4  3869206944        1205         4   \n",
       "\n",
       "                   Absolute Time  \n",
       "0                0 days 00:00:00  \n",
       "1                0 days 00:00:00  \n",
       "2      0 days 00:00:00.000004477  \n",
       "3      0 days 00:00:00.000009071  \n",
       "4      0 days 00:00:00.000018720  \n",
       "...                          ...  \n",
       "694725 2 days 11:52:59.010715530  \n",
       "694726 2 days 11:52:59.614347416  \n",
       "694727 2 days 11:53:00.217979345  \n",
       "694728 2 days 11:53:00.821611261  \n",
       "694729 2 days 11:53:01.425243293  \n",
       "\n",
       "[694730 rows x 7 columns]"
      ]
     },
     "execution_count": 13,
     "metadata": {},
     "output_type": "execute_result"
    }
   ],
   "source": [
    "#df.loc[0,'Absolute Time'] = 25/30* df.loc[0,'TDC_MEAS'] + 25*df.loc[0,'BX_COUNTER']  + 3563 *df.loc[0,'BX_COUNTER']*25\n",
    "\n",
    "tdc_meas = 25/30* (df['TDC_MEAS']-df.loc[0,'TDC_MEAS'])\n",
    "BX_counter = 25*(df['BX_COUNTER']- df.loc[0,'BX_COUNTER'])\n",
    "orbit_CNT = 3563*25*(df['ORBIT_CNT'] -df.loc[0,'ORBIT_CNT'])\n",
    "df['Absolute Time'] = tdc_meas.cumsum() + BX_counter.cumsum() +orbit_CNT.cumsum()\n",
    "\n",
    "df['Absolute Time'] = pd.to_timedelta(df['Absolute Time'], unit=\"ns\")\n",
    "df\n",
    "#df.loc['Absolute Time'] =  25/30* df.loc[i,'TDC_MEAS'] + 25*df.loc[i,'BX_COUNTER']  + 3563 *df.loc[i,'BX_COUNTER']*25"
   ]
  },
  {
   "cell_type": "markdown",
   "metadata": {},
   "source": [
    "4\\. Find out the duration of the data taking in hours, minutes and seconds, by using the features of the Time Series. Perform this check reading the whole dataset."
   ]
  },
  {
   "cell_type": "code",
   "execution_count": 14,
   "metadata": {},
   "outputs": [
    {
     "name": "stdout",
     "output_type": "stream",
     "text": [
      "The duration of the data is :  2 days 11:53:01.425243293\n"
     ]
    }
   ],
   "source": [
    "print('The duration of the data is : ',df['Absolute Time'][len(df)-1] - df['Absolute Time'][0])"
   ]
  },
  {
   "cell_type": "markdown",
   "metadata": {},
   "source": [
    "5\\. Use the `.groupby()` method to find out the noisy channels, i.e. the TDC channels with most counts (print to screen the top 3 and the corresponding counts)"
   ]
  },
  {
   "cell_type": "code",
   "execution_count": 15,
   "metadata": {},
   "outputs": [
    {
     "name": "stdout",
     "output_type": "stream",
     "text": [
      "TDC_CHANNEL\n",
      "139    57638\n",
      "64     34788\n",
      "63     34149\n",
      "Name: HEAD, dtype: int64\n"
     ]
    }
   ],
   "source": [
    "print(df.groupby(['TDC_CHANNEL']).count()['HEAD'].sort_values(ascending = False)[:3])\n"
   ]
  },
  {
   "cell_type": "markdown",
   "metadata": {},
   "source": [
    "6\\. Count the number of non-empty orbits (i.e. the number of orbits with at least one hit)."
   ]
  },
  {
   "cell_type": "code",
   "execution_count": 16,
   "metadata": {},
   "outputs": [
    {
     "name": "stdout",
     "output_type": "stream",
     "text": [
      "There is : 6774 non-empty orbits\n"
     ]
    }
   ],
   "source": [
    "o =df.groupby(['ORBIT_CNT']).count()# count the number of rows for each values of ORBIT_CNT\n",
    "\n",
    "print('There is :',len(o.index), 'non-empty orbits')"
   ]
  },
  {
   "cell_type": "markdown",
   "metadata": {},
   "source": [
    "7\\. Count the number of unique orbits with at least one measurement from TDC_CHANNEL=139."
   ]
  },
  {
   "cell_type": "code",
   "execution_count": 17,
   "metadata": {},
   "outputs": [
    {
     "name": "stdout",
     "output_type": "stream",
     "text": [
      "6749\n"
     ]
    }
   ],
   "source": [
    "df2 = df[df['TDC_CHANNEL']==139]\n",
    "o =df2.groupby('ORBIT_CNT').count()\n",
    "\n",
    "indexes = o.index.tolist()\n",
    "print(len(indexes))"
   ]
  },
  {
   "cell_type": "markdown",
   "metadata": {},
   "source": [
    "8\\. Create two Series (one for each FPGA) that have the TDC channel as index, and the number of counts for the corresponding TDC channel as values."
   ]
  },
  {
   "cell_type": "code",
   "execution_count": 18,
   "metadata": {},
   "outputs": [
    {
     "name": "stdout",
     "output_type": "stream",
     "text": [
      "For FPGA = 0: \n",
      " TDC_CHANNEL\n",
      "1        645.0\n",
      "2        822.0\n",
      "3        812.0\n",
      "4       1249.0\n",
      "5        771.0\n",
      "        ...   \n",
      "124     8704.0\n",
      "129        2.0\n",
      "130       16.0\n",
      "137       15.0\n",
      "139    40400.0\n",
      "Name: HEAD, Length: 121, dtype: float64\n",
      "\n",
      "\n",
      " For FPGA = 1: \n",
      " TDC_CHANNEL\n",
      "1      14975.0\n",
      "2      17165.0\n",
      "3      11601.0\n",
      "4      13880.0\n",
      "5       7881.0\n",
      "        ...   \n",
      "128      723.0\n",
      "129       17.0\n",
      "130       20.0\n",
      "137       18.0\n",
      "139    17238.0\n",
      "Name: HEAD, Length: 122, dtype: float64\n"
     ]
    }
   ],
   "source": [
    "import random\n",
    "sr1 = pd.Series(df[df['FPGA']==0].groupby(['TDC_CHANNEL']).count()['HEAD'], index =df['TDC_CHANNEL'].sort_values()).drop_duplicates()\n",
    "print('For FPGA = 0: \\n',sr1)\n",
    "sr2 = pd.Series(df[df['FPGA']==1].groupby(['TDC_CHANNEL']).count()['HEAD'], index =df['TDC_CHANNEL'].sort_values()).drop_duplicates()\n",
    "print('\\n\\n For FPGA = 1: \\n',sr2)"
   ]
  },
  {
   "cell_type": "markdown",
   "metadata": {},
   "source": [
    "9\\. **Optional:** Create two histograms (one for each FPGA) that show the number of counts for each TDC channel."
   ]
  },
  {
   "cell_type": "code",
   "execution_count": 19,
   "metadata": {},
   "outputs": [
    {
     "data": {
      "text/plain": [
       "Text(0.5, 1.0, 'FPGA = 1')"
      ]
     },
     "execution_count": 19,
     "metadata": {},
     "output_type": "execute_result"
    },
    {
     "data": {
      "image/png": "[encoded data removed]",
      "text/plain": [
       "<Figure size 432x288 with 1 Axes>"
      ]
     },
     "metadata": {
      "needs_background": "light"
     },
     "output_type": "display_data"
    },
    {
     "data": {
      "image/png": "[encoded data removed]",
      "text/plain": [
       "<Figure size 432x288 with 1 Axes>"
      ]
     },
     "metadata": {
      "needs_background": "light"
     },
     "output_type": "display_data"
    }
   ],
   "source": [
    "\n",
    "df1 = df[df['FPGA']==0]\n",
    "histo1 = df1.hist(column = 'TDC_CHANNEL')\n",
    "plt.title('FPGA = 0')\n",
    "df2 = df[df['FPGA']==1]\n",
    "histo1 = df2.hist(column = 'TDC_CHANNEL')\n",
    "plt.title('FPGA = 1')"
   ]
  }
 ],
 "metadata": {
  "kernelspec": {
   "display_name": "Python 3 (ipykernel)",
   "language": "python",
   "name": "python3"
  },
  "language_info": {
   "codemirror_mode": {
    "name": "ipython",
    "version": 3
   },
   "file_extension": ".py",
   "mimetype": "text/x-python",
   "name": "python",
   "nbconvert_exporter": "python",
   "pygments_lexer": "ipython3",
   "version": "3.9.12"
  }
 },
 "nbformat": 4,
 "nbformat_minor": 2
}
