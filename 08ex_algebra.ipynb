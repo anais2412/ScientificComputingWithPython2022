{
 "cells": [
  {
   "cell_type": "markdown",
   "metadata": {},
   "source": [
    "1\\. **PCA on 3D dataset**\n",
    "\n",
    "* Generate a dataset simulating 3 features, each with N entries (N being ${\\cal O}(1000)$). Each feature is made by random numbers generated according the normal distribution $N(\\mu,\\sigma)$ with mean $\\mu_i$ and standard deviation $\\sigma_i$, with $i=1, 2, 3$. Generate the 3 variables $x_{i}$ such that:\n",
    "    * $x_1$ is distributed as $N(0,1)$\n",
    "    * $x_2$ is distributed as $x_1+N(0,3)$\n",
    "    * $x_3$ is given by $2x_1+x_2$\n",
    "* Find the eigenvectors and eigenvalues using the eigendecomposition of the covariance matrix\n",
    "* Find the eigenvectors and eigenvalues using the SVD. Check that the two procedures yield to same result\n",
    "* What percent of the total dataset's variability is explained by the principal components? Given how the dataset was constructed, do these make sense? Reduce the dimensionality of the system so that at least 99% of the total variability is retained\n",
    "* Redefine the data according to the new basis from the PCA\n",
    "* Plot the data, in both the original and the new basis. The figure should have 2 rows (the original and the new basis) and 3 columns (the $[x_0, x_1]$, $[x_0, x_2]$ and $[x_1, x_2]$ projections) of scatter plots."
   ]
  },
  {
   "cell_type": "code",
   "execution_count": 5,
   "metadata": {},
   "outputs": [
    {
     "name": "stdout",
     "output_type": "stream",
     "text": [
      "l:\n",
      " [2.62203525e+01+0.j 5.68614318e-16+0.j 2.10105509e+00+0.j] \n",
      "\n",
      "real(l):\n",
      " [2.62203525e+01 5.68614318e-16 2.10105509e+00] \n",
      "\n",
      "V:\n",
      " [[-0.10877776 -0.81649658  0.56701035]\n",
      " [-0.58566525 -0.40824829 -0.70023535]\n",
      " [-0.80322078  0.40824829  0.43378534]] \n",
      "\n",
      "shapes: U = (3, 3) S: (3,) V^T: (3, 3) \n",
      "\n",
      "Spectrum:\n",
      " [2.62203525e+01 2.10105509e+00 9.50407156e-16] \n",
      "\n",
      "U:\n",
      " [[-0.10877776  0.56701035 -0.81649658]\n",
      " [-0.58566525 -0.70023535 -0.40824829]\n",
      " [-0.80322078  0.43378534  0.40824829]] \n",
      "\n",
      "V^T:\n",
      " [[-0.10877776 -0.58566525 -0.80322078]\n",
      " [ 0.56701035 -0.70023535  0.43378534]\n",
      " [-0.81649658 -0.40824829  0.40824829]] \n",
      "\n"
     ]
    }
   ],
   "source": [
    "import numpy as np\n",
    "from scipy import linalg as la\n",
    "from matplotlib import pyplot as plt\n",
    "\n",
    "x1 = np.random.normal(loc = 0, scale = 1, size = 1000)\n",
    "x2 = x1 + np.random.normal(loc = 0, scale = 3, size = 1000)\n",
    "x3 = 2*x1 + x2\n",
    "\n",
    "#Covariance matrix\n",
    "data = np.array([x1, x2, x3])\n",
    "cov_matrix = np.cov(data, bias=True)\n",
    "\n",
    "#eigenvalues \n",
    "l, V = la.eig(cov_matrix)\n",
    "print(\"l:\\n\", l, '\\n')\n",
    "print(\"real(l):\\n\", np.real_if_close(l), '\\n')\n",
    "# V is the matrix of the eigenvectors\n",
    "print(\"V:\\n\", V, '\\n')\n",
    "\n",
    "#SVD\n",
    "U, s, Vt = la.svd(cov_matrix)\n",
    "print(\"shapes: U =\", U.shape, \"S:\", s.shape, \"V^T:\", Vt.shape, '\\n')\n",
    "print(\"Spectrum:\\n\", s, '\\n')\n",
    "print(\"U:\\n\", U, '\\n')\n",
    "print(\"V^T:\\n\", Vt, '\\n')"
   ]
  },
  {
   "cell_type": "markdown",
   "metadata": {},
   "source": [
    "2\\. **PCA on a nD dataset**\n",
    "\n",
    "* Start from the dataset you have genereted in the previous exercise and add uncorrelated random noise. Such noise should be represented by other 10 uncorrelated variables normally distributed, with a standard deviation much smaller (e.g. a factor 20) than those used to generate the $x_1$ and $x_2$. Repeat the PCA procedure and compare the results with what you have obtained before."
   ]
  },
  {
   "cell_type": "code",
   "execution_count": null,
   "metadata": {},
   "outputs": [],
   "source": []
  },
  {
   "cell_type": "markdown",
   "metadata": {},
   "source": [
    "3\\. **Optional**: **PCA on the MAGIC dataset**\n",
    "\n",
    "Perform a PCA on the magic04.data dataset."
   ]
  },
  {
   "cell_type": "code",
   "execution_count": null,
   "metadata": {},
   "outputs": [],
   "source": [
    "# get the dataset and its description on the proper data directory\n",
    "#!wget https://archive.ics.uci.edu/ml/machine-learning-databases/magic/magic04.data -P data/\n",
    "#!wget https://archive.ics.uci.edu/ml/machine-learning-databases/magic/magic04.names -P data/ "
   ]
  },
  {
   "cell_type": "code",
   "execution_count": null,
   "metadata": {},
   "outputs": [],
   "source": []
  }
 ],
 "metadata": {
  "kernelspec": {
   "display_name": "Python 3 (ipykernel)",
   "language": "python",
   "name": "python3"
  },
  "language_info": {
   "codemirror_mode": {
    "name": "ipython",
    "version": 3
   },
   "file_extension": ".py",
   "mimetype": "text/x-python",
   "name": "python",
   "nbconvert_exporter": "python",
   "pygments_lexer": "ipython3",
   "version": "3.9.12"
  }
 },
 "nbformat": 4,
 "nbformat_minor": 2
}
